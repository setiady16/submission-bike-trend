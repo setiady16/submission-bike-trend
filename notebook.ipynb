{
  "cells": [
    {
      "cell_type": "markdown",
      "metadata": {
        "id": "H9wADwK78DCz"
      },
      "source": [
        "# Proyek Analisis Data: [Input Nama Dataset]\n",
        "- **Nama:** Dimas Aditia Anugerah Setiady\n",
        "- **Email:** mc240d5y0910@student.devacademy.id\n",
        "- **ID Dicoding:** MC240D5Y0910"
      ]
    },
    {
      "cell_type": "markdown",
      "metadata": {
        "id": "eE0raob58DC0"
      },
      "source": [
        "## Menentukan Pertanyaan Bisnis"
      ]
    },
    {
      "cell_type": "markdown",
      "metadata": {
        "id": "GmQeQ5YF8DC0"
      },
      "source": [
        "1. Bagaimana pengaruh kondisi cuaca (weathersit) terhadap jumlah penyewaan sepeda (cnt) di berbagai musim?\n",
        "2. Seberapa besar pengaruh faktor waktu (hari dalam seminggu dan jam dalam sehari) terhadap pola penyewaan sepeda?"
      ]
    },
    {
      "cell_type": "markdown",
      "metadata": {
        "id": "H-z4QGlO8DC1"
      },
      "source": [
        "## Import Semua Packages/Library yang Digunakan"
      ]
    },
    {
      "cell_type": "code",
      "execution_count": 3,
      "metadata": {
        "id": "FVYwaObI8DC1"
      },
      "outputs": [],
      "source": [
        "# Pilihan project: Pandas, Matplotlib, Seaborn, & Streamlit (khusus untuk file py)\n",
        "import pandas as pd\n",
        "import numpy as np\n",
        "import matplotlib.pyplot as plt\n",
        "import matplotlib.ticker as ticker # konversi angka untuk kasus pertanyaan 2\n",
        "import seaborn as sns\n",
        "\n",
        "pd.set_option('display.max_columns', None)  # Menampilkan semua kolom\n",
        "pd.set_option('display.expand_frame_repr', False)  # Mencegah tampilan DataFrame menjadi beberapa baris"
      ]
    },
    {
      "cell_type": "markdown",
      "metadata": {
        "id": "h_Sh51Xy8DC1"
      },
      "source": [
        "## Data Wrangling"
      ]
    },
    {
      "cell_type": "markdown",
      "metadata": {
        "id": "sXU2GBYu8DC1"
      },
      "source": [
        "### Gathering Data"
      ]
    },
    {
      "cell_type": "code",
      "execution_count": 4,
      "metadata": {
        "id": "zjCBk1BI8DC1"
      },
      "outputs": [
        {
          "data": {
            "text/html": [
              "<div>\n",
              "<style scoped>\n",
              "    .dataframe tbody tr th:only-of-type {\n",
              "        vertical-align: middle;\n",
              "    }\n",
              "\n",
              "    .dataframe tbody tr th {\n",
              "        vertical-align: top;\n",
              "    }\n",
              "\n",
              "    .dataframe thead th {\n",
              "        text-align: right;\n",
              "    }\n",
              "</style>\n",
              "<table border=\"1\" class=\"dataframe\">\n",
              "  <thead>\n",
              "    <tr style=\"text-align: right;\">\n",
              "      <th></th>\n",
              "      <th>instant</th>\n",
              "      <th>dteday</th>\n",
              "      <th>season</th>\n",
              "      <th>yr</th>\n",
              "      <th>mnth</th>\n",
              "      <th>holiday</th>\n",
              "      <th>weekday</th>\n",
              "      <th>workingday</th>\n",
              "      <th>weathersit</th>\n",
              "      <th>temp</th>\n",
              "      <th>atemp</th>\n",
              "      <th>hum</th>\n",
              "      <th>windspeed</th>\n",
              "      <th>casual</th>\n",
              "      <th>registered</th>\n",
              "      <th>cnt</th>\n",
              "    </tr>\n",
              "  </thead>\n",
              "  <tbody>\n",
              "    <tr>\n",
              "      <th>0</th>\n",
              "      <td>1</td>\n",
              "      <td>2011-01-01</td>\n",
              "      <td>1</td>\n",
              "      <td>0</td>\n",
              "      <td>1</td>\n",
              "      <td>0</td>\n",
              "      <td>6</td>\n",
              "      <td>0</td>\n",
              "      <td>2</td>\n",
              "      <td>0.344167</td>\n",
              "      <td>0.363625</td>\n",
              "      <td>0.805833</td>\n",
              "      <td>0.160446</td>\n",
              "      <td>331</td>\n",
              "      <td>654</td>\n",
              "      <td>985</td>\n",
              "    </tr>\n",
              "    <tr>\n",
              "      <th>1</th>\n",
              "      <td>2</td>\n",
              "      <td>2011-01-02</td>\n",
              "      <td>1</td>\n",
              "      <td>0</td>\n",
              "      <td>1</td>\n",
              "      <td>0</td>\n",
              "      <td>0</td>\n",
              "      <td>0</td>\n",
              "      <td>2</td>\n",
              "      <td>0.363478</td>\n",
              "      <td>0.353739</td>\n",
              "      <td>0.696087</td>\n",
              "      <td>0.248539</td>\n",
              "      <td>131</td>\n",
              "      <td>670</td>\n",
              "      <td>801</td>\n",
              "    </tr>\n",
              "    <tr>\n",
              "      <th>2</th>\n",
              "      <td>3</td>\n",
              "      <td>2011-01-03</td>\n",
              "      <td>1</td>\n",
              "      <td>0</td>\n",
              "      <td>1</td>\n",
              "      <td>0</td>\n",
              "      <td>1</td>\n",
              "      <td>1</td>\n",
              "      <td>1</td>\n",
              "      <td>0.196364</td>\n",
              "      <td>0.189405</td>\n",
              "      <td>0.437273</td>\n",
              "      <td>0.248309</td>\n",
              "      <td>120</td>\n",
              "      <td>1229</td>\n",
              "      <td>1349</td>\n",
              "    </tr>\n",
              "    <tr>\n",
              "      <th>3</th>\n",
              "      <td>4</td>\n",
              "      <td>2011-01-04</td>\n",
              "      <td>1</td>\n",
              "      <td>0</td>\n",
              "      <td>1</td>\n",
              "      <td>0</td>\n",
              "      <td>2</td>\n",
              "      <td>1</td>\n",
              "      <td>1</td>\n",
              "      <td>0.200000</td>\n",
              "      <td>0.212122</td>\n",
              "      <td>0.590435</td>\n",
              "      <td>0.160296</td>\n",
              "      <td>108</td>\n",
              "      <td>1454</td>\n",
              "      <td>1562</td>\n",
              "    </tr>\n",
              "    <tr>\n",
              "      <th>4</th>\n",
              "      <td>5</td>\n",
              "      <td>2011-01-05</td>\n",
              "      <td>1</td>\n",
              "      <td>0</td>\n",
              "      <td>1</td>\n",
              "      <td>0</td>\n",
              "      <td>3</td>\n",
              "      <td>1</td>\n",
              "      <td>1</td>\n",
              "      <td>0.226957</td>\n",
              "      <td>0.229270</td>\n",
              "      <td>0.436957</td>\n",
              "      <td>0.186900</td>\n",
              "      <td>82</td>\n",
              "      <td>1518</td>\n",
              "      <td>1600</td>\n",
              "    </tr>\n",
              "  </tbody>\n",
              "</table>\n",
              "</div>"
            ],
            "text/plain": [
              "   instant      dteday  season  yr  mnth  holiday  weekday  workingday  weathersit      temp     atemp       hum  windspeed  casual  registered   cnt\n",
              "0        1  2011-01-01       1   0     1        0        6           0           2  0.344167  0.363625  0.805833   0.160446     331         654   985\n",
              "1        2  2011-01-02       1   0     1        0        0           0           2  0.363478  0.353739  0.696087   0.248539     131         670   801\n",
              "2        3  2011-01-03       1   0     1        0        1           1           1  0.196364  0.189405  0.437273   0.248309     120        1229  1349\n",
              "3        4  2011-01-04       1   0     1        0        2           1           1  0.200000  0.212122  0.590435   0.160296     108        1454  1562\n",
              "4        5  2011-01-05       1   0     1        0        3           1           1  0.226957  0.229270  0.436957   0.186900      82        1518  1600"
            ]
          },
          "execution_count": 4,
          "metadata": {},
          "output_type": "execute_result"
        }
      ],
      "source": [
        "# Membaca file CSV Day\n",
        "df_day = pd.read_csv('data/day.csv')\n",
        "df_day.head()"
      ]
    },
    {
      "cell_type": "code",
      "execution_count": 6,
      "metadata": {},
      "outputs": [
        {
          "data": {
            "text/html": [
              "<div>\n",
              "<style scoped>\n",
              "    .dataframe tbody tr th:only-of-type {\n",
              "        vertical-align: middle;\n",
              "    }\n",
              "\n",
              "    .dataframe tbody tr th {\n",
              "        vertical-align: top;\n",
              "    }\n",
              "\n",
              "    .dataframe thead th {\n",
              "        text-align: right;\n",
              "    }\n",
              "</style>\n",
              "<table border=\"1\" class=\"dataframe\">\n",
              "  <thead>\n",
              "    <tr style=\"text-align: right;\">\n",
              "      <th></th>\n",
              "      <th>instant</th>\n",
              "      <th>dteday</th>\n",
              "      <th>season</th>\n",
              "      <th>yr</th>\n",
              "      <th>mnth</th>\n",
              "      <th>hr</th>\n",
              "      <th>holiday</th>\n",
              "      <th>weekday</th>\n",
              "      <th>workingday</th>\n",
              "      <th>weathersit</th>\n",
              "      <th>temp</th>\n",
              "      <th>atemp</th>\n",
              "      <th>hum</th>\n",
              "      <th>windspeed</th>\n",
              "      <th>casual</th>\n",
              "      <th>registered</th>\n",
              "      <th>cnt</th>\n",
              "    </tr>\n",
              "  </thead>\n",
              "  <tbody>\n",
              "    <tr>\n",
              "      <th>0</th>\n",
              "      <td>1</td>\n",
              "      <td>2011-01-01</td>\n",
              "      <td>1</td>\n",
              "      <td>0</td>\n",
              "      <td>1</td>\n",
              "      <td>0</td>\n",
              "      <td>0</td>\n",
              "      <td>6</td>\n",
              "      <td>0</td>\n",
              "      <td>1</td>\n",
              "      <td>0.24</td>\n",
              "      <td>0.2879</td>\n",
              "      <td>0.81</td>\n",
              "      <td>0.0</td>\n",
              "      <td>3</td>\n",
              "      <td>13</td>\n",
              "      <td>16</td>\n",
              "    </tr>\n",
              "    <tr>\n",
              "      <th>1</th>\n",
              "      <td>2</td>\n",
              "      <td>2011-01-01</td>\n",
              "      <td>1</td>\n",
              "      <td>0</td>\n",
              "      <td>1</td>\n",
              "      <td>1</td>\n",
              "      <td>0</td>\n",
              "      <td>6</td>\n",
              "      <td>0</td>\n",
              "      <td>1</td>\n",
              "      <td>0.22</td>\n",
              "      <td>0.2727</td>\n",
              "      <td>0.80</td>\n",
              "      <td>0.0</td>\n",
              "      <td>8</td>\n",
              "      <td>32</td>\n",
              "      <td>40</td>\n",
              "    </tr>\n",
              "    <tr>\n",
              "      <th>2</th>\n",
              "      <td>3</td>\n",
              "      <td>2011-01-01</td>\n",
              "      <td>1</td>\n",
              "      <td>0</td>\n",
              "      <td>1</td>\n",
              "      <td>2</td>\n",
              "      <td>0</td>\n",
              "      <td>6</td>\n",
              "      <td>0</td>\n",
              "      <td>1</td>\n",
              "      <td>0.22</td>\n",
              "      <td>0.2727</td>\n",
              "      <td>0.80</td>\n",
              "      <td>0.0</td>\n",
              "      <td>5</td>\n",
              "      <td>27</td>\n",
              "      <td>32</td>\n",
              "    </tr>\n",
              "    <tr>\n",
              "      <th>3</th>\n",
              "      <td>4</td>\n",
              "      <td>2011-01-01</td>\n",
              "      <td>1</td>\n",
              "      <td>0</td>\n",
              "      <td>1</td>\n",
              "      <td>3</td>\n",
              "      <td>0</td>\n",
              "      <td>6</td>\n",
              "      <td>0</td>\n",
              "      <td>1</td>\n",
              "      <td>0.24</td>\n",
              "      <td>0.2879</td>\n",
              "      <td>0.75</td>\n",
              "      <td>0.0</td>\n",
              "      <td>3</td>\n",
              "      <td>10</td>\n",
              "      <td>13</td>\n",
              "    </tr>\n",
              "    <tr>\n",
              "      <th>4</th>\n",
              "      <td>5</td>\n",
              "      <td>2011-01-01</td>\n",
              "      <td>1</td>\n",
              "      <td>0</td>\n",
              "      <td>1</td>\n",
              "      <td>4</td>\n",
              "      <td>0</td>\n",
              "      <td>6</td>\n",
              "      <td>0</td>\n",
              "      <td>1</td>\n",
              "      <td>0.24</td>\n",
              "      <td>0.2879</td>\n",
              "      <td>0.75</td>\n",
              "      <td>0.0</td>\n",
              "      <td>0</td>\n",
              "      <td>1</td>\n",
              "      <td>1</td>\n",
              "    </tr>\n",
              "  </tbody>\n",
              "</table>\n",
              "</div>"
            ],
            "text/plain": [
              "   instant      dteday  season  yr  mnth  hr  holiday  weekday  workingday  weathersit  temp   atemp   hum  windspeed  casual  registered  cnt\n",
              "0        1  2011-01-01       1   0     1   0        0        6           0           1  0.24  0.2879  0.81        0.0       3          13   16\n",
              "1        2  2011-01-01       1   0     1   1        0        6           0           1  0.22  0.2727  0.80        0.0       8          32   40\n",
              "2        3  2011-01-01       1   0     1   2        0        6           0           1  0.22  0.2727  0.80        0.0       5          27   32\n",
              "3        4  2011-01-01       1   0     1   3        0        6           0           1  0.24  0.2879  0.75        0.0       3          10   13\n",
              "4        5  2011-01-01       1   0     1   4        0        6           0           1  0.24  0.2879  0.75        0.0       0           1    1"
            ]
          },
          "execution_count": 6,
          "metadata": {},
          "output_type": "execute_result"
        }
      ],
      "source": [
        "df_hour = pd.read_csv('data/hour.csv')\n",
        "df_hour.head()"
      ]
    },
    {
      "cell_type": "markdown",
      "metadata": {
        "id": "MMi6xGaDkbCi"
      },
      "source": [
        "*Insight:*\n",
        "1. Normalisasi Data dan Interpretasi Nilai Asli\n",
        "- Semua variabel cuaca (temp, atemp, hum, windspeed) sudah dinormalisasi untuk konsistensi dalam perhitungan.\n",
        "- Untuk mendapatkan nilai sebenarnya :\n",
        "    - Suhu (temp) ->  temp * 41 °C\n",
        "    - Suhu Terasa (atemp) → atemp * 50 °C\n",
        "    - Kelembaban (hum) → hum * 100 %\n",
        "    Kecepatan Angin (windspeed) → windspeed * 67\n",
        "\n",
        "2. Hubungan antara day.csv dan hour.csv\n",
        "- day.csv adalah hasil agregasi hour.csv, sehingga beberapa variabel dihitung berdasarkan rata-rata atau total per hari:\n",
        "    - Variabel rata-rata per hari: temp, atemp, hum, windspeed\n",
        "    - Variabel berdasarkan modus per hari: weathersit\n",
        "    - Variabel total per hari: casual, registered, cnt\n",
        "\n",
        "3. Pola dan Klasifikasi Data\n",
        "- Kategori Waktu :\n",
        "    - yr, season, mnth, weekday → data nominal\n",
        "    - holiday, workingday → data boolean (0 atau 1)\n",
        "    - dteday bisa menjadi acuan utama karena merepresentasikan hari tertentu\n",
        "\n",
        "- Kategori Pengguna :\n",
        "    - casual, registered, dan cnt adalah data diskrit karena berbentuk hitungan\n",
        "\n",
        "- Kategori Cuaca :\n",
        "    - weathersit adalah data ordinal karena ada urutan dalam kondisi cuaca (cerah → mendung → hujan → salju)\n",
        "    - temp, atemp, hum, windspeed adalah data kontinu karena memiliki rentang nilai"
      ]
    },
    {
      "cell_type": "markdown",
      "metadata": {
        "id": "FHSiqaZp8DC1"
      },
      "source": [
        "### Assessing Data"
      ]
    },
    {
      "cell_type": "markdown",
      "metadata": {},
      "source": [
        "1. Kehilangan Data (Missing Values)\n",
        "    - Apakah ada kolom yang memiliki nilai kosong atau tidak tersedia?\n",
        "    - Bagaimana cara menangani data yang hilang (menghapus, mengisi dengan rata-rata, atau metode lain)?\n",
        "\n",
        "2. Nilai Tidak Valid (Invalid Values)\n",
        "    - Apakah terdapat data yang tidak masuk akal, seperti suhu di bawah nol atau kelembaban lebih dari 100%?\n",
        "\n",
        "3. Data Duplikat (Duplicate Entries)\n",
        "    - Apakah ada baris data yang berulang dan sama?\n",
        "\n",
        "4. Ketidaktepatan Data (Inaccurate Values)\n",
        "    - Apakah nilai yang dicatat sesuai dengan pengamatan atau logika yang diharapkan?\n",
        "\n",
        "5. Pencilan (Outliers)\n",
        "    - Apakah ada data yang memiliki nilai jauh berbeda dari mayoritas data lainnya?"
      ]
    },
    {
      "cell_type": "markdown",
      "metadata": {},
      "source": [
        "**1. Kehilangan Data (Missing Values)**"
      ]
    },
    {
      "cell_type": "code",
      "execution_count": 7,
      "metadata": {},
      "outputs": [
        {
          "name": "stdout",
          "output_type": "stream",
          "text": [
            "Missing values in df_hour:\n",
            "instant       0\n",
            "dteday        0\n",
            "season        0\n",
            "yr            0\n",
            "mnth          0\n",
            "hr            0\n",
            "holiday       0\n",
            "weekday       0\n",
            "workingday    0\n",
            "weathersit    0\n",
            "temp          0\n",
            "atemp         0\n",
            "hum           0\n",
            "windspeed     0\n",
            "casual        0\n",
            "registered    0\n",
            "cnt           0\n",
            "dtype: int64\n",
            "-------------------------------\n",
            "Missing values in df_day:\n",
            "instant       0\n",
            "dteday        0\n",
            "season        0\n",
            "yr            0\n",
            "mnth          0\n",
            "holiday       0\n",
            "weekday       0\n",
            "workingday    0\n",
            "weathersit    0\n",
            "temp          0\n",
            "atemp         0\n",
            "hum           0\n",
            "windspeed     0\n",
            "casual        0\n",
            "registered    0\n",
            "cnt           0\n",
            "dtype: int64\n"
          ]
        }
      ],
      "source": [
        "# Mengecek jumlah missing values pada setiap kolom di df_hour\n",
        "print(\"Missing values in df_hour:\")\n",
        "print(df_hour.isnull().sum())  # Menampilkan jumlah nilai kosong di setiap kolom\n",
        "\n",
        "print(\"-------------------------------\")\n",
        "\n",
        "# Mengecek jumlah missing values pada setiap kolom di df_day\n",
        "print(\"Missing values in df_day:\")\n",
        "print(df_day.isnull().sum())  # Menampilkan jumlah nilai kosong di setiap kolom"
      ]
    },
    {
      "cell_type": "markdown",
      "metadata": {},
      "source": [
        "**Insight Missing Value:** Tidak ditemukan nilai null pada kedua dataset, sehingga data dapat digunakan tanpa perlu dilakukan pembersihan terkait missing values."
      ]
    },
    {
      "cell_type": "markdown",
      "metadata": {},
      "source": [
        "**2. Nilai Tidak Valid (Invalid Values)**"
      ]
    },
    {
      "cell_type": "markdown",
      "metadata": {},
      "source": [
        "*Periksa Data yang akan digunakan*"
      ]
    },
    {
      "cell_type": "code",
      "execution_count": 8,
      "metadata": {},
      "outputs": [
        {
          "name": "stdout",
          "output_type": "stream",
          "text": [
            "<class 'pandas.core.frame.DataFrame'>\n",
            "RangeIndex: 17379 entries, 0 to 17378\n",
            "Data columns (total 17 columns):\n",
            " #   Column      Non-Null Count  Dtype  \n",
            "---  ------      --------------  -----  \n",
            " 0   instant     17379 non-null  int64  \n",
            " 1   dteday      17379 non-null  object \n",
            " 2   season      17379 non-null  int64  \n",
            " 3   yr          17379 non-null  int64  \n",
            " 4   mnth        17379 non-null  int64  \n",
            " 5   hr          17379 non-null  int64  \n",
            " 6   holiday     17379 non-null  int64  \n",
            " 7   weekday     17379 non-null  int64  \n",
            " 8   workingday  17379 non-null  int64  \n",
            " 9   weathersit  17379 non-null  int64  \n",
            " 10  temp        17379 non-null  float64\n",
            " 11  atemp       17379 non-null  float64\n",
            " 12  hum         17379 non-null  float64\n",
            " 13  windspeed   17379 non-null  float64\n",
            " 14  casual      17379 non-null  int64  \n",
            " 15  registered  17379 non-null  int64  \n",
            " 16  cnt         17379 non-null  int64  \n",
            "dtypes: float64(4), int64(12), object(1)\n",
            "memory usage: 2.3+ MB\n"
          ]
        }
      ],
      "source": [
        "df_hour.info()"
      ]
    },
    {
      "cell_type": "code",
      "execution_count": 9,
      "metadata": {},
      "outputs": [
        {
          "name": "stdout",
          "output_type": "stream",
          "text": [
            "<class 'pandas.core.frame.DataFrame'>\n",
            "RangeIndex: 731 entries, 0 to 730\n",
            "Data columns (total 16 columns):\n",
            " #   Column      Non-Null Count  Dtype  \n",
            "---  ------      --------------  -----  \n",
            " 0   instant     731 non-null    int64  \n",
            " 1   dteday      731 non-null    object \n",
            " 2   season      731 non-null    int64  \n",
            " 3   yr          731 non-null    int64  \n",
            " 4   mnth        731 non-null    int64  \n",
            " 5   holiday     731 non-null    int64  \n",
            " 6   weekday     731 non-null    int64  \n",
            " 7   workingday  731 non-null    int64  \n",
            " 8   weathersit  731 non-null    int64  \n",
            " 9   temp        731 non-null    float64\n",
            " 10  atemp       731 non-null    float64\n",
            " 11  hum         731 non-null    float64\n",
            " 12  windspeed   731 non-null    float64\n",
            " 13  casual      731 non-null    int64  \n",
            " 14  registered  731 non-null    int64  \n",
            " 15  cnt         731 non-null    int64  \n",
            "dtypes: float64(4), int64(11), object(1)\n",
            "memory usage: 91.5+ KB\n"
          ]
        }
      ],
      "source": [
        "df_day.info()"
      ]
    },
    {
      "cell_type": "markdown",
      "metadata": {},
      "source": [
        "*Mengecek Rentang Nilai*"
      ]
    },
    {
      "cell_type": "code",
      "execution_count": 10,
      "metadata": {},
      "outputs": [
        {
          "name": "stdout",
          "output_type": "stream",
          "text": [
            "Descriptive Statistics for df_hour:\n",
            "          instant        season            yr          mnth            hr       holiday       weekday    workingday    weathersit          temp         atemp           hum     windspeed        casual    registered           cnt\n",
            "count  17379.0000  17379.000000  17379.000000  17379.000000  17379.000000  17379.000000  17379.000000  17379.000000  17379.000000  17379.000000  17379.000000  17379.000000  17379.000000  17379.000000  17379.000000  17379.000000\n",
            "mean    8690.0000      2.501640      0.502561      6.537775     11.546752      0.028770      3.003683      0.682721      1.425283      0.496987      0.475775      0.627229      0.190098     35.676218    153.786869    189.463088\n",
            "std     5017.0295      1.106918      0.500008      3.438776      6.914405      0.167165      2.005771      0.465431      0.639357      0.192556      0.171850      0.192930      0.122340     49.305030    151.357286    181.387599\n",
            "min        1.0000      1.000000      0.000000      1.000000      0.000000      0.000000      0.000000      0.000000      1.000000      0.020000      0.000000      0.000000      0.000000      0.000000      0.000000      1.000000\n",
            "25%     4345.5000      2.000000      0.000000      4.000000      6.000000      0.000000      1.000000      0.000000      1.000000      0.340000      0.333300      0.480000      0.104500      4.000000     34.000000     40.000000\n",
            "50%     8690.0000      3.000000      1.000000      7.000000     12.000000      0.000000      3.000000      1.000000      1.000000      0.500000      0.484800      0.630000      0.194000     17.000000    115.000000    142.000000\n",
            "75%    13034.5000      3.000000      1.000000     10.000000     18.000000      0.000000      5.000000      1.000000      2.000000      0.660000      0.621200      0.780000      0.253700     48.000000    220.000000    281.000000\n",
            "max    17379.0000      4.000000      1.000000     12.000000     23.000000      1.000000      6.000000      1.000000      4.000000      1.000000      1.000000      1.000000      0.850700    367.000000    886.000000    977.000000\n",
            "--------------------------------------------------\n",
            "Descriptive Statistics for df_day:\n",
            "          instant      season          yr        mnth     holiday     weekday  workingday  weathersit        temp       atemp         hum   windspeed       casual   registered          cnt\n",
            "count  731.000000  731.000000  731.000000  731.000000  731.000000  731.000000  731.000000  731.000000  731.000000  731.000000  731.000000  731.000000   731.000000   731.000000   731.000000\n",
            "mean   366.000000    2.496580    0.500684    6.519836    0.028728    2.997264    0.683995    1.395349    0.495385    0.474354    0.627894    0.190486   848.176471  3656.172367  4504.348837\n",
            "std    211.165812    1.110807    0.500342    3.451913    0.167155    2.004787    0.465233    0.544894    0.183051    0.162961    0.142429    0.077498   686.622488  1560.256377  1937.211452\n",
            "min      1.000000    1.000000    0.000000    1.000000    0.000000    0.000000    0.000000    1.000000    0.059130    0.079070    0.000000    0.022392     2.000000    20.000000    22.000000\n",
            "25%    183.500000    2.000000    0.000000    4.000000    0.000000    1.000000    0.000000    1.000000    0.337083    0.337842    0.520000    0.134950   315.500000  2497.000000  3152.000000\n",
            "50%    366.000000    3.000000    1.000000    7.000000    0.000000    3.000000    1.000000    1.000000    0.498333    0.486733    0.626667    0.180975   713.000000  3662.000000  4548.000000\n",
            "75%    548.500000    3.000000    1.000000   10.000000    0.000000    5.000000    1.000000    2.000000    0.655417    0.608602    0.730209    0.233214  1096.000000  4776.500000  5956.000000\n",
            "max    731.000000    4.000000    1.000000   12.000000    1.000000    6.000000    1.000000    3.000000    0.861667    0.840896    0.972500    0.507463  3410.000000  6946.000000  8714.000000\n"
          ]
        }
      ],
      "source": [
        "print(\"Descriptive Statistics for df_hour:\")\n",
        "print(df_hour.describe())\n",
        "print(\"-\" * 50)  \n",
        "print(\"Descriptive Statistics for df_day:\")\n",
        "print(df_day.describe())"
      ]
    },
    {
      "cell_type": "markdown",
      "metadata": {},
      "source": [
        "*Mengecek Kategori yang Tidak Sesuai*"
      ]
    },
    {
      "cell_type": "code",
      "execution_count": 11,
      "metadata": {},
      "outputs": [
        {
          "name": "stdout",
          "output_type": "stream",
          "text": [
            "[1 2 3 4]\n",
            "[2 1 3]\n"
          ]
        }
      ],
      "source": [
        "print(df_hour['season'].unique())\n",
        "print(df_day['weathersit'].unique())"
      ]
    },
    {
      "cell_type": "markdown",
      "metadata": {},
      "source": [
        "**noted** : karena nilai nomor 4 tidak muncul di df_day, mungkin tidak ada data hari dengan kondisi hujan lebat atau cuaca yang diwakilkan dengan nomor 4."
      ]
    },
    {
      "cell_type": "markdown",
      "metadata": {},
      "source": [
        "*Mengecek Nilai Negatif yang Tidak Seharusnya*"
      ]
    },
    {
      "cell_type": "code",
      "execution_count": 12,
      "metadata": {},
      "outputs": [
        {
          "name": "stdout",
          "output_type": "stream",
          "text": [
            "Empty DataFrame\n",
            "Columns: [instant, dteday, season, yr, mnth, hr, holiday, weekday, workingday, weathersit, temp, atemp, hum, windspeed, casual, registered, cnt]\n",
            "Index: []\n",
            "Empty DataFrame\n",
            "Columns: [instant, dteday, season, yr, mnth, holiday, weekday, workingday, weathersit, temp, atemp, hum, windspeed, casual, registered, cnt]\n",
            "Index: []\n"
          ]
        }
      ],
      "source": [
        "print(df_hour[df_hour['cnt'] < 0])\n",
        "print(df_day[df_day['cnt'] < 0])"
      ]
    },
    {
      "cell_type": "markdown",
      "metadata": {},
      "source": [
        "**Noted** : Tidak ada nilai negatif dalam df_hour dan df_day, sehingga datanya sudah sesuai tanpa adanya angka negatif."
      ]
    },
    {
      "cell_type": "markdown",
      "metadata": {},
      "source": [
        "*Identifikasi Nilai yang Tidak Masuk Akal*"
      ]
    },
    {
      "cell_type": "code",
      "execution_count": 13,
      "metadata": {},
      "outputs": [
        {
          "name": "stdout",
          "output_type": "stream",
          "text": [
            "Empty DataFrame\n",
            "Columns: [instant, dteday, season, yr, mnth, hr, holiday, weekday, workingday, weathersit, temp, atemp, hum, windspeed, casual, registered, cnt]\n",
            "Index: []\n",
            "Empty DataFrame\n",
            "Columns: [instant, dteday, season, yr, mnth, holiday, weekday, workingday, weathersit, temp, atemp, hum, windspeed, casual, registered, cnt]\n",
            "Index: []\n"
          ]
        }
      ],
      "source": [
        "print(df_hour[(df_hour['hum'] < 0) | (df_hour['hum'] > 1)])\n",
        "print(df_day[(df_day['hum'] < 0) | (df_day['hum'] > 1)])"
      ]
    },
    {
      "cell_type": "markdown",
      "metadata": {
        "id": "7dtxhAPrkhPL"
      },
      "source": [
        "**Insight :** Tidak ditemukan nilai yang tidak masuk akal pada dataset, seperti suhu di bawah nol atau kelembaban di luar rentang yang valid. Oleh karena itu, data dapat digunakan tanpa perlu koreksi lebih lanjut terkait nilai tidak valid."
      ]
    },
    {
      "cell_type": "markdown",
      "metadata": {},
      "source": [
        "**3. Data Duplikat (Duplicate Entries)**"
      ]
    },
    {
      "cell_type": "code",
      "execution_count": 14,
      "metadata": {},
      "outputs": [
        {
          "name": "stdout",
          "output_type": "stream",
          "text": [
            "df_hour: 0\n",
            "df_day: 0\n"
          ]
        }
      ],
      "source": [
        "# Mengecek jumlah data duplikat\n",
        "print(\"df_hour:\", df_hour.duplicated().sum())\n",
        "print(\"df_day:\", df_day.duplicated().sum())"
      ]
    },
    {
      "cell_type": "code",
      "execution_count": 15,
      "metadata": {},
      "outputs": [
        {
          "name": "stdout",
          "output_type": "stream",
          "text": [
            "Data duplikat di df_hour:\n",
            "Empty DataFrame\n",
            "Columns: [instant, dteday, season, yr, mnth, hr, holiday, weekday, workingday, weathersit, temp, atemp, hum, windspeed, casual, registered, cnt]\n",
            "Index: []\n",
            "-------------------------------\n",
            "Data duplikat di df_day:\n",
            "Empty DataFrame\n",
            "Columns: [instant, dteday, season, yr, mnth, holiday, weekday, workingday, weathersit, temp, atemp, hum, windspeed, casual, registered, cnt]\n",
            "Index: []\n"
          ]
        }
      ],
      "source": [
        "# Menampilkan data duplikat jika ada\n",
        "print(\"Data duplikat di df_hour:\")\n",
        "print(df_hour[df_hour.duplicated()])\n",
        "\n",
        "print(\"-------------------------------\")\n",
        "\n",
        "print(\"Data duplikat di df_day:\")\n",
        "print(df_day[df_day.duplicated()])"
      ]
    },
    {
      "cell_type": "markdown",
      "metadata": {},
      "source": [
        "**Insight Data Duplikat (Duplicate Entries)** : Tidak ditemukan data duplikat pada kedua dataset, sehingga tidak perlu dilakukan pembersihan terkait duplikasi data."
      ]
    },
    {
      "cell_type": "markdown",
      "metadata": {},
      "source": [
        "**4. Ketidaktepatan Data (Inaccurate Values)**"
      ]
    },
    {
      "cell_type": "code",
      "execution_count": 16,
      "metadata": {},
      "outputs": [
        {
          "name": "stdout",
          "output_type": "stream",
          "text": [
            "Cek suhu tidak wajar:\n",
            "Empty DataFrame\n",
            "Columns: [instant, dteday, season, yr, mnth, hr, holiday, weekday, workingday, weathersit, temp, atemp, hum, windspeed, casual, registered, cnt]\n",
            "Index: []\n",
            "Empty DataFrame\n",
            "Columns: [instant, dteday, season, yr, mnth, holiday, weekday, workingday, weathersit, temp, atemp, hum, windspeed, casual, registered, cnt]\n",
            "Index: []\n"
          ]
        }
      ],
      "source": [
        "# Memeriksa apakah terdapat suhu di bawah nol atau di atas 50 derajat Celsius\n",
        "print(\"Cek suhu tidak wajar:\")\n",
        "print(df_hour[(df_hour['temp'] < 0) | (df_hour['temp'] > 50)]) \n",
        "print(df_day[(df_day['temp'] < 0) | (df_day['temp'] > 50)])"
      ]
    },
    {
      "cell_type": "code",
      "execution_count": 17,
      "metadata": {},
      "outputs": [
        {
          "name": "stdout",
          "output_type": "stream",
          "text": [
            "\n",
            "Cek kelembaban tidak wajar:\n",
            "Empty DataFrame\n",
            "Columns: [instant, dteday, season, yr, mnth, hr, holiday, weekday, workingday, weathersit, temp, atemp, hum, windspeed, casual, registered, cnt]\n",
            "Index: []\n",
            "Empty DataFrame\n",
            "Columns: [instant, dteday, season, yr, mnth, holiday, weekday, workingday, weathersit, temp, atemp, hum, windspeed, casual, registered, cnt]\n",
            "Index: []\n"
          ]
        }
      ],
      "source": [
        "# Memeriksa apakah kelembaban berada dalam rentang 0-100%\n",
        "print(\"\\nCek kelembaban tidak wajar:\")\n",
        "print(df_hour[(df_hour['hum'] < 0) | (df_hour['hum'] > 1)])  # Kelembaban dalam skala 0-1\n",
        "print(df_day[(df_day['hum'] < 0) | (df_day['hum'] > 1)])"
      ]
    },
    {
      "cell_type": "markdown",
      "metadata": {},
      "source": [
        "**Insight Ketidaktepatan Data (Inaccurate Values) :**\n",
        "1. Tidak ditemukan nilai suhu yang tidak wajar dalam dataset, sehingga data suhu dapat dianggap valid.\n",
        "2. Tidak ditemukan nilai kelembaban di luar rentang 0-1, yang berarti data kelembaban telah dinormalisasi dengan benar dan tidak memerlukan perbaikan.\n",
        "3. Secara keseluruhan, tidak ada indikasi nilai yang tidak masuk akal dalam dataset, sehingga data dapat digunakan untuk analisis lebih lanjut tanpa perlu koreksi terkait ketidaktepatan nilai."
      ]
    },
    {
      "cell_type": "markdown",
      "metadata": {},
      "source": [
        "**5. Pencilan (Outliers)**"
      ]
    },
    {
      "cell_type": "code",
      "execution_count": 18,
      "metadata": {},
      "outputs": [],
      "source": [
        "# Fungsi untuk mendeteksi outliers dengan IQR\n",
        "def detect_outliers_iqr(df, column):\n",
        "    Q1 = df[column].quantile(0.25)\n",
        "    Q3 = df[column].quantile(0.75)\n",
        "    IQR = Q3 - Q1\n",
        "    lower_bound = Q1 - 1.5 * IQR\n",
        "    upper_bound = Q3 + 1.5 * IQR\n",
        "    outliers = df[(df[column] < lower_bound) | (df[column] > upper_bound)]\n",
        "    return outliers"
      ]
    },
    {
      "cell_type": "code",
      "execution_count": 19,
      "metadata": {},
      "outputs": [],
      "source": [
        "# Mendeteksi outliers pada kolom tertentu di df_hour\n",
        "outliers_temp = detect_outliers_iqr(df_hour, 'temp')\n",
        "outliers_hum = detect_outliers_iqr(df_hour, 'hum')\n",
        "outliers_windspeed = detect_outliers_iqr(df_hour, 'windspeed')"
      ]
    },
    {
      "cell_type": "code",
      "execution_count": 20,
      "metadata": {},
      "outputs": [
        {
          "name": "stdout",
          "output_type": "stream",
          "text": [
            "Outliers pada kolom suhu:\n",
            "Empty DataFrame\n",
            "Columns: [instant, dteday, season, yr, mnth, hr, holiday, weekday, workingday, weathersit, temp, atemp, hum, windspeed, casual, registered, cnt]\n",
            "Index: []\n",
            "\n",
            "Outliers pada kolom kelembaban:\n",
            "      instant      dteday  season  yr  mnth  hr  holiday  weekday  workingday  weathersit  temp   atemp  hum  windspeed  casual  registered  cnt\n",
            "1551     1552  2011-03-10       1   0     3   0        0        4           1           3  0.34  0.3182  0.0     0.2537       3           0    3\n",
            "1552     1553  2011-03-10       1   0     3   1        0        4           1           3  0.34  0.3182  0.0     0.2537       0           2    2\n",
            "1553     1554  2011-03-10       1   0     3   2        0        4           1           3  0.34  0.3182  0.0     0.2537       0           1    1\n",
            "1554     1555  2011-03-10       1   0     3   5        0        4           1           3  0.36  0.3485  0.0     0.1940       1           2    3\n",
            "1555     1556  2011-03-10       1   0     3   6        0        4           1           3  0.36  0.3333  0.0     0.3284       0          12   12\n",
            "1556     1557  2011-03-10       1   0     3   7        0        4           1           3  0.38  0.3939  0.0     0.2239       1          36   37\n",
            "1557     1558  2011-03-10       1   0     3   8        0        4           1           3  0.38  0.3939  0.0     0.2836       1          43   44\n",
            "1558     1559  2011-03-10       1   0     3   9        0        4           1           3  0.40  0.4091  0.0     0.2239       1          23   24\n",
            "1559     1560  2011-03-10       1   0     3  10        0        4           1           3  0.40  0.4091  0.0     0.1642       0          17   17\n",
            "1560     1561  2011-03-10       1   0     3  11        0        4           1           3  0.40  0.4091  0.0     0.2537       6           5   11\n",
            "1561     1562  2011-03-10       1   0     3  12        0        4           1           3  0.42  0.4242  0.0     0.2239       4          30   34\n",
            "1562     1563  2011-03-10       1   0     3  13        0        4           1           3  0.42  0.4242  0.0     0.2239       1          11   12\n",
            "1563     1564  2011-03-10       1   0     3  14        0        4           1           3  0.44  0.4394  0.0     0.2985       0          12   12\n",
            "1564     1565  2011-03-10       1   0     3  15        0        4           1           3  0.44  0.4394  0.0     0.2239       3          11   14\n",
            "1565     1566  2011-03-10       1   0     3  16        0        4           1           3  0.42  0.4242  0.0     0.2537       1          20   21\n",
            "1566     1567  2011-03-10       1   0     3  17        0        4           1           2  0.44  0.4394  0.0     0.3881       2         109  111\n",
            "1567     1568  2011-03-10       1   0     3  18        0        4           1           3  0.44  0.4394  0.0     0.3582       2          80   82\n",
            "1568     1569  2011-03-10       1   0     3  19        0        4           1           3  0.44  0.4394  0.0     0.5821       5          51   56\n",
            "1569     1570  2011-03-10       1   0     3  20        0        4           1           3  0.36  0.3333  0.0     0.3284       9          29   38\n",
            "1570     1571  2011-03-10       1   0     3  21        0        4           1           3  0.36  0.3485  0.0     0.2239       1          27   28\n",
            "1571     1572  2011-03-10       1   0     3  22        0        4           1           2  0.34  0.3333  0.0     0.1343       4          30   34\n",
            "1572     1573  2011-03-10       1   0     3  23        0        4           1           3  0.34  0.3485  0.0     0.0896       1          26   27\n",
            "\n",
            "Outliers pada kolom kecepatan angin:\n",
            "       instant      dteday  season  yr  mnth  hr  holiday  weekday  workingday  weathersit  temp   atemp   hum  windspeed  casual  registered  cnt\n",
            "175        176  2011-01-08       1   0     1  14        0        6           0           1  0.20  0.1667  0.32     0.4925      12          83   95\n",
            "178        179  2011-01-08       1   0     1  17        0        6           0           1  0.16  0.1212  0.37     0.5522       5          64   69\n",
            "194        195  2011-01-09       1   0     1   9        0        0           0           1  0.12  0.0758  0.46     0.5224       0          19   19\n",
            "196        197  2011-01-09       1   0     1  11        0        0           0           1  0.16  0.1212  0.40     0.5224       2          47   49\n",
            "265        266  2011-01-12       1   0     1  12        0        3           1           1  0.20  0.1515  0.47     0.5821       3          52   55\n",
            "...        ...         ...     ...  ..   ...  ..      ...      ...         ...         ...   ...     ...   ...        ...     ...         ...  ...\n",
            "17327    17328  2012-12-29       1   1    12  20        0        6           0           2  0.30  0.2424  0.56     0.5522       2          64   66\n",
            "17328    17329  2012-12-29       1   1    12  21        0        6           0           2  0.28  0.2424  0.56     0.4925       4          56   60\n",
            "17341    17342  2012-12-30       1   1    12  10        0        0           0           1  0.26  0.2121  0.41     0.5821      31          91  122\n",
            "17343    17344  2012-12-30       1   1    12  12        0        0           0           1  0.28  0.2273  0.36     0.5821      47          97  144\n",
            "17344    17345  2012-12-30       1   1    12  13        0        0           0           1  0.30  0.2576  0.36     0.6567      49         120  169\n",
            "\n",
            "[342 rows x 17 columns]\n"
          ]
        }
      ],
      "source": [
        "# Menampilkan hasil\n",
        "print(\"Outliers pada kolom suhu:\")\n",
        "print(outliers_temp)\n",
        "\n",
        "print(\"\\nOutliers pada kolom kelembaban:\")\n",
        "print(outliers_hum)\n",
        "\n",
        "print(\"\\nOutliers pada kolom kecepatan angin:\")\n",
        "print(outliers_windspeed)"
      ]
    },
    {
      "cell_type": "markdown",
      "metadata": {},
      "source": [
        "**Insight :** Berdasarkan analisis menggunakan metode IQR, tidak ditemukan atau terdapat beberapa data pencilan (outliers) dalam kolom suhu (temp), kelembaban (hum), dan kecepatan angin (windspeed). \n"
      ]
    },
    {
      "cell_type": "code",
      "execution_count": 21,
      "metadata": {},
      "outputs": [
        {
          "data": {
            "image/png": "[encoded data removed]",
            "text/plain": [
              "<Figure size 800x400 with 1 Axes>"
            ]
          },
          "metadata": {},
          "output_type": "display_data"
        },
        {
          "data": {
            "image/png": "[encoded data removed]",
            "text/plain": [
              "<Figure size 800x400 with 1 Axes>"
            ]
          },
          "metadata": {},
          "output_type": "display_data"
        }
      ],
      "source": [
        "# Visualisasi outlier pada jumlah peminjaman sepeda per jam\n",
        "plt.figure(figsize=(8, 4))\n",
        "sns.boxplot(x=df_hour['cnt'])\n",
        "plt.title(\"Jumlah Peminjaman Sepeda Per Jam\")\n",
        "plt.show()\n",
        "\n",
        "# Visualisasi outlier pada jumlah peminjaman sepeda per hari\n",
        "plt.figure(figsize=(8, 4))\n",
        "sns.boxplot(x=df_day['cnt'])\n",
        "plt.title(\"Jumlah Peminjaman Sepeda Per Hari\")\n",
        "plt.show()"
      ]
    },
    {
      "cell_type": "markdown",
      "metadata": {},
      "source": [
        "**Insight Pencilan (Outliers)** : Ditemukan beberapa outlier pada jumlah peminjaman sepeda, terutama pada data per jam, yang mungkin disebabkan oleh lonjakan penggunaan di jam sibuk atau kondisi tertentu."
      ]
    },
    {
      "cell_type": "markdown",
      "metadata": {
        "id": "EhN5R4hr8DC1"
      },
      "source": [
        "### Cleaning Data"
      ]
    },
    {
      "cell_type": "markdown",
      "metadata": {},
      "source": []
    },
    {
      "cell_type": "code",
      "execution_count": 22,
      "metadata": {
        "id": "jVnYpprE9Evz"
      },
      "outputs": [],
      "source": [
        "df_hour[\"dteday\"] = pd.to_datetime(df_hour[\"dteday\"], errors='coerce')\n",
        "df_day[\"dteday\"] = pd.to_datetime(df_day[\"dteday\"], errors='coerce')\n"
      ]
    },
    {
      "cell_type": "markdown",
      "metadata": {},
      "source": [
        "**Insight:** Kode ini mengonversi kolom dteday ke format datetime, dengan parameter errors='coerce' yang akan mengubah nilai yang tidak valid menjadi NaT (Not a Time). Hal ini membantu dalam mendeteksi dan menangani data yang tidak sesuai format tanggal."
      ]
    },
    {
      "cell_type": "markdown",
      "metadata": {
        "id": "gp-Y6wU38DC1"
      },
      "source": [
        "## Exploratory Data Analysis (EDA)"
      ]
    },
    {
      "cell_type": "markdown",
      "metadata": {
        "id": "MW7WF2kr8DC1"
      },
      "source": [
        "### Explore ..."
      ]
    },
    {
      "cell_type": "markdown",
      "metadata": {},
      "source": [
        "- Untuk memastikan apakah kolom weathersit, temp, atemp, hum, windspeed, casual, registered, dan cnt dalam df_day merupakan agregasi harian dari df_hour, kita dapat melakukan perbandingan dengan menghitung nilai agregat harian dari df_hour dan mencocokkannya dengan df_day."
      ]
    },
    {
      "cell_type": "code",
      "execution_count": 26,
      "metadata": {
        "id": "e9CQCZjk8DC2"
      },
      "outputs": [
        {
          "name": "stdout",
          "output_type": "stream",
          "text": [
            "   weathersit_day  weathersit_hour  temp_day  temp_hour  atemp_day  atemp_hour   hum_day  hum_hour  windspeed_day  windspeed_hour  casual_day  casual_hour  registered_day  registered_hour  cnt_day  cnt_hour\n",
            "0               2         1.583333  0.344167   0.344167   0.363625    0.363625  0.805833  0.805833       0.160446        0.160446         331          331             654              654      985       985\n",
            "1               2         1.956522  0.363478   0.363478   0.353739    0.353739  0.696087  0.696087       0.248539        0.248539         131          131             670              670      801       801\n",
            "2               1         1.000000  0.196364   0.196364   0.189405    0.189405  0.437273  0.437273       0.248309        0.248309         120          120            1229             1229     1349      1349\n",
            "3               1         1.043478  0.200000   0.200000   0.212122    0.212122  0.590435  0.590435       0.160296        0.160296         108          108            1454             1454     1562      1562\n",
            "4               1         1.000000  0.226957   0.226957   0.229270    0.229270  0.436957  0.436957       0.186900        0.186900          82           82            1518             1518     1600      1600\n"
          ]
        }
      ],
      "source": [
        "# Menghitung agregasi harian dari df_hour\n",
        "df_hour_agg = df_hour.groupby(\"dteday\").agg({\n",
        "    \"weathersit\": \"mean\",   \n",
        "    \"temp\": \"mean\",         \n",
        "    \"atemp\": \"mean\",        \n",
        "    \"hum\": \"mean\",         \n",
        "    \"windspeed\": \"mean\",   \n",
        "    \"casual\": \"sum\",      \n",
        "    \"registered\": \"sum\",    \n",
        "    \"cnt\": \"sum\"            \n",
        "}).reset_index()\n",
        "\n",
        "# Membandingkan hasil agregasi dengan df_day\n",
        "comparison = df_day.merge(df_hour_agg, on=\"dteday\", suffixes=('_day', '_hour'))\n",
        "\n",
        "# Menampilkan perbedaan antara df_day dan hasil agregasi df_hour\n",
        "comparison_diff = comparison[[\n",
        "    \"weathersit_day\", \"weathersit_hour\",\n",
        "    \"temp_day\", \"temp_hour\",\n",
        "    \"atemp_day\", \"atemp_hour\",\n",
        "    \"hum_day\", \"hum_hour\",\n",
        "    \"windspeed_day\", \"windspeed_hour\",\n",
        "    \"casual_day\", \"casual_hour\",\n",
        "    \"registered_day\", \"registered_hour\",\n",
        "    \"cnt_day\", \"cnt_hour\"\n",
        "]]\n",
        "\n",
        "print(comparison_diff.head())  \n"
      ]
    },
    {
      "cell_type": "markdown",
      "metadata": {},
      "source": [
        "- Setelah membandingkan agregasi harian df_hour dengan df_day, kita bisa mengevaluasi apakah terdapat selisih yang signifikan antara keduanya."
      ]
    },
    {
      "cell_type": "code",
      "execution_count": 27,
      "metadata": {},
      "outputs": [
        {
          "name": "stdout",
          "output_type": "stream",
          "text": [
            "       weathersit_diff     temp_diff    atemp_diff      hum_diff  windspeed_diff  casual_diff  registered_diff  cnt_diff\n",
            "count       731.000000  7.310000e+02  7.310000e+02  7.310000e+02    7.310000e+02        731.0            731.0     731.0\n",
            "mean         -0.033998  1.779739e-11  1.000772e-08 -2.622606e-09   -1.443825e-08          0.0              0.0       0.0\n",
            "std           0.246901  2.736837e-07  2.931941e-07  2.751549e-07    2.694124e-07          0.0              0.0       0.0\n",
            "min          -0.458333 -4.782609e-07 -5.000000e-07 -5.217391e-07   -5.000000e-07          0.0              0.0       0.0\n",
            "25%          -0.208333 -3.333333e-07 -1.666667e-07 -3.333333e-07   -1.666667e-07          0.0              0.0       0.0\n",
            "50%          -0.041667  0.000000e+00  0.000000e+00  0.000000e+00    0.000000e+00          0.0              0.0       0.0\n",
            "75%           0.043478  3.333333e-07  2.608696e-07  3.333333e-07    1.666667e-07          0.0              0.0       0.0\n",
            "max           0.500000  4.782609e-07  5.000000e-07  4.782609e-07    5.000000e-07          0.0              0.0       0.0\n"
          ]
        }
      ],
      "source": [
        "# Menghitung selisih antara df_day dan hasil agregasi dari df_hour\n",
        "comparison[\"weathersit_diff\"] = comparison[\"weathersit_day\"] - comparison[\"weathersit_hour\"]\n",
        "comparison[\"temp_diff\"] = comparison[\"temp_day\"] - comparison[\"temp_hour\"]\n",
        "comparison[\"atemp_diff\"] = comparison[\"atemp_day\"] - comparison[\"atemp_hour\"]\n",
        "comparison[\"hum_diff\"] = comparison[\"hum_day\"] - comparison[\"hum_hour\"]\n",
        "comparison[\"windspeed_diff\"] = comparison[\"windspeed_day\"] - comparison[\"windspeed_hour\"]\n",
        "comparison[\"casual_diff\"] = comparison[\"casual_day\"] - comparison[\"casual_hour\"]\n",
        "comparison[\"registered_diff\"] = comparison[\"registered_day\"] - comparison[\"registered_hour\"]\n",
        "comparison[\"cnt_diff\"] = comparison[\"cnt_day\"] - comparison[\"cnt_hour\"]\n",
        "\n",
        "# Menampilkan ringkasan statistik selisihnya\n",
        "print(comparison[[\n",
        "    \"weathersit_diff\", \"temp_diff\", \"atemp_diff\", \"hum_diff\", \"windspeed_diff\", \n",
        "    \"casual_diff\", \"registered_diff\", \"cnt_diff\"\n",
        "]].describe())\n"
      ]
    },
    {
      "cell_type": "markdown",
      "metadata": {
        "id": "th_Lzl2Fkj9O"
      },
      "source": [
        "**Insight:**\n",
        "- Berdasarkan analisis perbedaan antara df_day dan hasil agregasi df_hour, selisih yang dihasilkan sangat kecil atau nol, menunjukkan bahwa df_day memang merupakan agregasi harian dari df_hour. Jika ada perbedaan signifikan, kemungkinan terdapat kesalahan dalam agregasi atau adanya faktor lain seperti pembulatan data."
      ]
    },
    {
      "cell_type": "markdown",
      "metadata": {},
      "source": [
        "## Data Merging & Export ##"
      ]
    },
    {
      "cell_type": "code",
      "execution_count": 28,
      "metadata": {},
      "outputs": [
        {
          "name": "stdout",
          "output_type": "stream",
          "text": [
            "timestamp      0\n",
            "cnt            3\n",
            "dteday        10\n",
            "season        10\n",
            "yr            10\n",
            "hr            10\n",
            "workingday    10\n",
            "weathersit    10\n",
            "temp          10\n",
            "atemp         10\n",
            "hum           10\n",
            "windspeed     10\n",
            "casual        10\n",
            "registered    10\n",
            "dtype: int64\n"
          ]
        },
        {
          "name": "stderr",
          "output_type": "stream",
          "text": [
            "C:\\Users\\ADVAN\\AppData\\Local\\Temp\\ipykernel_5180\\3149620690.py:4: FutureWarning: 'H' is deprecated and will be removed in a future version, please use 'h' instead.\n",
            "  \"timestamp\": pd.date_range(start=\"2024-03-01\", periods=10, freq=\"H\"),\n",
            "C:\\Users\\ADVAN\\AppData\\Local\\Temp\\ipykernel_5180\\3149620690.py:11: FutureWarning: 'H' is deprecated and will be removed in a future version, please use 'h' instead.\n",
            "  date_range = pd.date_range(start=df_hour[\"timestamp\"].min(), end=df_hour[\"timestamp\"].max(), freq=\"H\")\n"
          ]
        }
      ],
      "source": [
        "import pandas as pd\n",
        "\n",
        "data = {\n",
        "    \"timestamp\": pd.date_range(start=\"2024-03-01\", periods=10, freq=\"H\"),\n",
        "    \"cnt\": [5, 10, 15, None, 20, 25, None, 30, 35, None],\n",
        "}\n",
        "\n",
        "df_hour = pd.DataFrame(data)\n",
        "\n",
        "# Membuat rentang waktu yang lengkap\n",
        "date_range = pd.date_range(start=df_hour[\"timestamp\"].min(), end=df_hour[\"timestamp\"].max(), freq=\"H\")\n",
        "full_df = pd.DataFrame({\"timestamp\": date_range})\n",
        "\n",
        "# Merge dengan data asli untuk mengisi timestamp yang hilang\n",
        "df_filled = full_df.merge(df_hour, on=\"timestamp\", how=\"left\")\n",
        "\n",
        "# Menambahkan kolom yang diharapkan dalam output\n",
        "df_filled[\"dteday\"] = None\n",
        "df_filled[\"season\"] = None\n",
        "df_filled[\"yr\"] = None\n",
        "df_filled[\"hr\"] = None\n",
        "df_filled[\"workingday\"] = None\n",
        "df_filled[\"weathersit\"] = None\n",
        "df_filled[\"temp\"] = None\n",
        "df_filled[\"atemp\"] = None\n",
        "df_filled[\"hum\"] = None\n",
        "df_filled[\"windspeed\"] = None\n",
        "df_filled[\"casual\"] = None\n",
        "df_filled[\"registered\"] = None\n",
        "\n",
        "# Cek jumlah missing values\n",
        "print(df_filled.isnull().sum())"
      ]
    },
    {
      "cell_type": "code",
      "execution_count": 29,
      "metadata": {},
      "outputs": [
        {
          "name": "stdout",
          "output_type": "stream",
          "text": [
            "timestamp     0\n",
            "cnt           0\n",
            "dteday        0\n",
            "season        0\n",
            "yr            0\n",
            "hr            0\n",
            "workingday    0\n",
            "weathersit    0\n",
            "temp          0\n",
            "atemp         0\n",
            "hum           0\n",
            "windspeed     0\n",
            "casual        0\n",
            "registered    0\n",
            "dtype: int64\n",
            "            timestamp  cnt     dteday  season  yr  hr  workingday  weathersit  temp  atemp  hum  windspeed  casual  registered\n",
            "0 2024-03-01 00:00:00    5 2024-03-01       1   1   0           1           1   0.5    0.5  0.5        0.5     100         200\n",
            "1 2024-03-01 01:00:00   10 2024-03-01       1   1   1           1           1   0.5    0.5  0.5        0.5     100         200\n",
            "2 2024-03-01 02:00:00   15 2024-03-01       1   1   2           1           1   0.5    0.5  0.5        0.5     100         200\n",
            "3 2024-03-01 03:00:00  140 2024-03-01       1   1   3           1           1   0.5    0.5  0.5        0.5     100         200\n",
            "4 2024-03-01 04:00:00   20 2024-03-01       1   1   4           1           1   0.5    0.5  0.5        0.5     100         200\n"
          ]
        },
        {
          "name": "stderr",
          "output_type": "stream",
          "text": [
            "C:\\Users\\ADVAN\\AppData\\Local\\Temp\\ipykernel_5180\\1043987803.py:4: FutureWarning: 'H' is deprecated and will be removed in a future version, please use 'h' instead.\n",
            "  \"timestamp\": pd.date_range(start=\"2024-03-01\", periods=10, freq=\"H\"),\n",
            "C:\\Users\\ADVAN\\AppData\\Local\\Temp\\ipykernel_5180\\1043987803.py:11: FutureWarning: 'H' is deprecated and will be removed in a future version, please use 'h' instead.\n",
            "  date_range = pd.date_range(start=df_hour[\"timestamp\"].min(), end=df_hour[\"timestamp\"].max(), freq=\"H\")\n",
            "C:\\Users\\ADVAN\\AppData\\Local\\Temp\\ipykernel_5180\\1043987803.py:43: FutureWarning: DataFrame.fillna with 'method' is deprecated and will raise in a future version. Use obj.ffill() or obj.bfill() instead.\n",
            "  df_filled.fillna(method=\"ffill\", inplace=True)\n"
          ]
        }
      ],
      "source": [
        "import pandas as pd\n",
        "\n",
        "data = {\n",
        "    \"timestamp\": pd.date_range(start=\"2024-03-01\", periods=10, freq=\"H\"),\n",
        "    \"cnt\": [5, 10, 15, None, 20, 25, None, 30, 35, None],\n",
        "}\n",
        "\n",
        "df_hour = pd.DataFrame(data)\n",
        "\n",
        "# Membuat rentang waktu yang lengkap\n",
        "date_range = pd.date_range(start=df_hour[\"timestamp\"].min(), end=df_hour[\"timestamp\"].max(), freq=\"H\")\n",
        "full_df = pd.DataFrame({\"timestamp\": date_range})\n",
        "\n",
        "# Merge dengan data asli untuk mengisi timestamp yang hilang\n",
        "df_filled = full_df.merge(df_hour, on=\"timestamp\", how=\"left\")\n",
        "\n",
        "# Tambahkan kolom tambahan\n",
        "df_filled[\"dteday\"] = df_filled[\"timestamp\"].dt.date\n",
        "df_filled[\"season\"] = 1  # Default season\n",
        "df_filled[\"yr\"] = df_filled[\"timestamp\"].dt.year - 2023  # Tahun mulai dari 0 untuk 2024\n",
        "df_filled[\"hr\"] = df_filled[\"timestamp\"].dt.hour  # Variasi jam\n",
        "df_filled[\"workingday\"] = df_filled[\"timestamp\"].dt.weekday < 5  # True jika Senin-Jumat\n",
        "df_filled[\"weathersit\"] = 1  # Default cuaca\n",
        "df_filled[\"temp\"] = 0.5  # Suhu default\n",
        "df_filled[\"atemp\"] = 0.5\n",
        "df_filled[\"hum\"] = 0.5\n",
        "df_filled[\"windspeed\"] = 0.5\n",
        "df_filled[\"casual\"] = 100\n",
        "df_filled[\"registered\"] = 200\n",
        "\n",
        "# Simulasi agregasi harian untuk mengisi nilai kosong\n",
        "day_agg = df_hour.groupby(df_hour[\"timestamp\"].dt.date).agg({\n",
        "    \"cnt\": \"sum\"\n",
        "}).reset_index()\n",
        "day_agg.rename(columns={\"timestamp\": \"dteday\"}, inplace=True)\n",
        "\n",
        "# Merge kembali dengan agregasi harian\n",
        "df_filled = df_filled.merge(day_agg, on=\"dteday\", how=\"left\", suffixes=(\"\", \"_day\"))\n",
        "df_filled[\"cnt\"] = df_filled[\"cnt\"].fillna(df_filled[\"cnt_day\"])\n",
        "df_filled.drop(columns=[\"cnt_day\"], inplace=True)\n",
        "\n",
        "# Isi nilai yang hilang dengan forward fill\n",
        "df_filled.fillna(method=\"ffill\", inplace=True)\n",
        "\n",
        "# Konversi tipe data\n",
        "df_filled[\"dteday\"] = pd.to_datetime(df_filled[\"dteday\"])\n",
        "df_filled[\"season\"] = df_filled[\"season\"].astype(\"int32\")\n",
        "df_filled[\"yr\"] = df_filled[\"yr\"].astype(\"int32\")\n",
        "df_filled[\"hr\"] = df_filled[\"hr\"].astype(\"int32\")\n",
        "df_filled[\"workingday\"] = df_filled[\"workingday\"].astype(\"int32\")\n",
        "df_filled[\"weathersit\"] = df_filled[\"weathersit\"].astype(\"int32\")\n",
        "df_filled[\"temp\"] = df_filled[\"temp\"].astype(\"float64\")\n",
        "df_filled[\"atemp\"] = df_filled[\"atemp\"].astype(\"float64\")\n",
        "df_filled[\"hum\"] = df_filled[\"hum\"].astype(\"float64\")\n",
        "df_filled[\"windspeed\"] = df_filled[\"windspeed\"].astype(\"float64\")\n",
        "df_filled[\"casual\"] = df_filled[\"casual\"].astype(\"int64\")\n",
        "df_filled[\"registered\"] = df_filled[\"registered\"].astype(\"int64\")\n",
        "df_filled[\"cnt\"] = df_filled[\"cnt\"].astype(\"int64\")\n",
        "\n",
        "# Cek jumlah missing values (harus 0 semua)\n",
        "print(df_filled.isnull().sum())\n",
        "\n",
        "# Tampilkan 5 data pertama\n",
        "print(df_filled.head())\n"
      ]
    },
    {
      "cell_type": "code",
      "execution_count": 30,
      "metadata": {},
      "outputs": [
        {
          "name": "stdout",
          "output_type": "stream",
          "text": [
            "cnt           0\n",
            "dteday        0\n",
            "season        0\n",
            "yr            0\n",
            "hr            0\n",
            "workingday    0\n",
            "weathersit    0\n",
            "temp          0\n",
            "atemp         0\n",
            "hum           0\n",
            "windspeed     0\n",
            "casual        0\n",
            "registered    0\n",
            "dtype: int64\n",
            "   cnt     dteday  season  yr  hr  workingday  weathersit  temp  atemp  hum  windspeed  casual  registered\n",
            "0    5 2024-03-01       1   1   0           1           1   0.5    0.5  0.5        0.5     100         200\n",
            "1   10 2024-03-01       1   1   1           1           1   0.5    0.5  0.5        0.5     100         200\n",
            "2   15 2024-03-01       1   1   2           1           1   0.5    0.5  0.5        0.5     100         200\n",
            "3  140 2024-03-01       1   1   3           1           1   0.5    0.5  0.5        0.5     100         200\n",
            "4   20 2024-03-01       1   1   4           1           1   0.5    0.5  0.5        0.5     100         200\n"
          ]
        },
        {
          "name": "stderr",
          "output_type": "stream",
          "text": [
            "C:\\Users\\ADVAN\\AppData\\Local\\Temp\\ipykernel_5180\\3630473116.py:4: FutureWarning: 'H' is deprecated and will be removed in a future version, please use 'h' instead.\n",
            "  \"timestamp\": pd.date_range(start=\"2024-03-01\", periods=10, freq=\"H\"),\n",
            "C:\\Users\\ADVAN\\AppData\\Local\\Temp\\ipykernel_5180\\3630473116.py:11: FutureWarning: 'H' is deprecated and will be removed in a future version, please use 'h' instead.\n",
            "  date_range = pd.date_range(start=df_hour[\"timestamp\"].min(), end=df_hour[\"timestamp\"].max(), freq=\"H\")\n",
            "C:\\Users\\ADVAN\\AppData\\Local\\Temp\\ipykernel_5180\\3630473116.py:43: FutureWarning: DataFrame.fillna with 'method' is deprecated and will raise in a future version. Use obj.ffill() or obj.bfill() instead.\n",
            "  df_filled.fillna(method=\"ffill\", inplace=True)\n"
          ]
        }
      ],
      "source": [
        "import pandas as pd\n",
        "\n",
        "data = {\n",
        "    \"timestamp\": pd.date_range(start=\"2024-03-01\", periods=10, freq=\"H\"),\n",
        "    \"cnt\": [5, 10, 15, None, 20, 25, None, 30, 35, None],\n",
        "}\n",
        "\n",
        "df_hour = pd.DataFrame(data)\n",
        "\n",
        "# Membuat rentang waktu yang lengkap\n",
        "date_range = pd.date_range(start=df_hour[\"timestamp\"].min(), end=df_hour[\"timestamp\"].max(), freq=\"H\")\n",
        "full_df = pd.DataFrame({\"timestamp\": date_range})\n",
        "\n",
        "# Merge dengan data asli untuk mengisi timestamp yang hilang\n",
        "df_filled = full_df.merge(df_hour, on=\"timestamp\", how=\"left\")\n",
        "\n",
        "# Tambahkan kolom tambahan\n",
        "df_filled[\"dteday\"] = df_filled[\"timestamp\"].dt.date\n",
        "df_filled[\"season\"] = 1  # Default season\n",
        "df_filled[\"yr\"] = df_filled[\"timestamp\"].dt.year - 2023  # Tahun mulai dari 0 untuk 2024\n",
        "df_filled[\"hr\"] = df_filled[\"timestamp\"].dt.hour  # Variasi jam\n",
        "df_filled[\"workingday\"] = df_filled[\"timestamp\"].dt.weekday < 5  # True jika Senin-Jumat\n",
        "df_filled[\"weathersit\"] = 1  # Default cuaca\n",
        "df_filled[\"temp\"] = 0.5  # Suhu default\n",
        "df_filled[\"atemp\"] = 0.5\n",
        "df_filled[\"hum\"] = 0.5\n",
        "df_filled[\"windspeed\"] = 0.5\n",
        "df_filled[\"casual\"] = 100\n",
        "df_filled[\"registered\"] = 200\n",
        "\n",
        "# Simulasi agregasi harian untuk mengisi nilai kosong\n",
        "day_agg = df_hour.groupby(df_hour[\"timestamp\"].dt.date).agg({\n",
        "    \"cnt\": \"sum\"\n",
        "}).reset_index()\n",
        "day_agg.rename(columns={\"timestamp\": \"dteday\"}, inplace=True)\n",
        "\n",
        "# Merge kembali dengan agregasi harian\n",
        "df_filled = df_filled.merge(day_agg, on=\"dteday\", how=\"left\", suffixes=(\"\", \"_day\"))\n",
        "df_filled[\"cnt\"] = df_filled[\"cnt\"].fillna(df_filled[\"cnt_day\"])\n",
        "df_filled.drop(columns=[\"cnt_day\"], inplace=True)\n",
        "\n",
        "# Isi nilai yang hilang dengan forward fill\n",
        "df_filled.fillna(method=\"ffill\", inplace=True)\n",
        "\n",
        "# Konversi tipe data\n",
        "df_filled[\"dteday\"] = pd.to_datetime(df_filled[\"dteday\"])\n",
        "df_filled[\"season\"] = df_filled[\"season\"].astype(\"int32\")\n",
        "df_filled[\"yr\"] = df_filled[\"yr\"].astype(\"int32\")\n",
        "df_filled[\"hr\"] = df_filled[\"hr\"].astype(\"int32\")\n",
        "df_filled[\"workingday\"] = df_filled[\"workingday\"].astype(\"int32\")\n",
        "df_filled[\"weathersit\"] = df_filled[\"weathersit\"].astype(\"int32\")\n",
        "df_filled[\"temp\"] = df_filled[\"temp\"].astype(\"float64\")\n",
        "df_filled[\"atemp\"] = df_filled[\"atemp\"].astype(\"float64\")\n",
        "df_filled[\"hum\"] = df_filled[\"hum\"].astype(\"float64\")\n",
        "df_filled[\"windspeed\"] = df_filled[\"windspeed\"].astype(\"float64\")\n",
        "df_filled[\"casual\"] = df_filled[\"casual\"].astype(\"int64\")\n",
        "df_filled[\"registered\"] = df_filled[\"registered\"].astype(\"int64\")\n",
        "df_filled[\"cnt\"] = df_filled[\"cnt\"].astype(\"int64\")\n",
        "\n",
        "# --- HAPUS KOLOM YANG TIDAK DIBUTUHKAN ---\n",
        "df_filled.drop(columns=[\"timestamp\"], inplace=True)\n",
        "\n",
        "# --- EXPORT DATA (opsional, hanya aktif jika diperlukan) ---\n",
        "export_csv =True \n",
        "if export_csv:\n",
        "    df_filled.to_csv(\"dashboard/main_data.csv\", index=True)\n",
        "\n",
        "# Cek jumlah missing values (harus 0 semua)\n",
        "print(df_filled.isnull().sum())\n",
        "\n",
        "# Tampilkan 5 data pertama\n",
        "print(df_filled.head())\n"
      ]
    },
    {
      "cell_type": "markdown",
      "metadata": {
        "id": "zsyZjqak8DC2"
      },
      "source": [
        "## Visualization & Explanatory Analysis"
      ]
    },
    {
      "cell_type": "markdown",
      "metadata": {
        "id": "HZxOiQ6n8DC2"
      },
      "source": [
        "### Pertanyaan 1: Apakah terdapat pola musiman yang signifikan dalam jumlah penyewaan sepeda berdasarkan bulan dan tahun?"
      ]
    },
    {
      "cell_type": "code",
      "execution_count": 31,
      "metadata": {
        "id": "1swJUdAD8DC2"
      },
      "outputs": [
        {
          "data": {
            "text/html": [
              "<div>\n",
              "<style scoped>\n",
              "    .dataframe tbody tr th:only-of-type {\n",
              "        vertical-align: middle;\n",
              "    }\n",
              "\n",
              "    .dataframe tbody tr th {\n",
              "        vertical-align: top;\n",
              "    }\n",
              "\n",
              "    .dataframe thead th {\n",
              "        text-align: right;\n",
              "    }\n",
              "</style>\n",
              "<table border=\"1\" class=\"dataframe\">\n",
              "  <thead>\n",
              "    <tr style=\"text-align: right;\">\n",
              "      <th></th>\n",
              "      <th>year</th>\n",
              "      <th>month</th>\n",
              "      <th>cnt</th>\n",
              "    </tr>\n",
              "  </thead>\n",
              "  <tbody>\n",
              "    <tr>\n",
              "      <th>0</th>\n",
              "      <td>2011</td>\n",
              "      <td>1</td>\n",
              "      <td>38189</td>\n",
              "    </tr>\n",
              "    <tr>\n",
              "      <th>1</th>\n",
              "      <td>2011</td>\n",
              "      <td>2</td>\n",
              "      <td>48215</td>\n",
              "    </tr>\n",
              "    <tr>\n",
              "      <th>2</th>\n",
              "      <td>2011</td>\n",
              "      <td>3</td>\n",
              "      <td>64045</td>\n",
              "    </tr>\n",
              "    <tr>\n",
              "      <th>3</th>\n",
              "      <td>2011</td>\n",
              "      <td>4</td>\n",
              "      <td>94870</td>\n",
              "    </tr>\n",
              "    <tr>\n",
              "      <th>4</th>\n",
              "      <td>2011</td>\n",
              "      <td>5</td>\n",
              "      <td>135821</td>\n",
              "    </tr>\n",
              "    <tr>\n",
              "      <th>5</th>\n",
              "      <td>2011</td>\n",
              "      <td>6</td>\n",
              "      <td>143512</td>\n",
              "    </tr>\n",
              "    <tr>\n",
              "      <th>6</th>\n",
              "      <td>2011</td>\n",
              "      <td>7</td>\n",
              "      <td>141341</td>\n",
              "    </tr>\n",
              "    <tr>\n",
              "      <th>7</th>\n",
              "      <td>2011</td>\n",
              "      <td>8</td>\n",
              "      <td>136691</td>\n",
              "    </tr>\n",
              "    <tr>\n",
              "      <th>8</th>\n",
              "      <td>2011</td>\n",
              "      <td>9</td>\n",
              "      <td>127418</td>\n",
              "    </tr>\n",
              "    <tr>\n",
              "      <th>9</th>\n",
              "      <td>2011</td>\n",
              "      <td>10</td>\n",
              "      <td>123511</td>\n",
              "    </tr>\n",
              "    <tr>\n",
              "      <th>10</th>\n",
              "      <td>2011</td>\n",
              "      <td>11</td>\n",
              "      <td>102167</td>\n",
              "    </tr>\n",
              "    <tr>\n",
              "      <th>11</th>\n",
              "      <td>2011</td>\n",
              "      <td>12</td>\n",
              "      <td>87323</td>\n",
              "    </tr>\n",
              "  </tbody>\n",
              "</table>\n",
              "</div>"
            ],
            "text/plain": [
              "    year  month     cnt\n",
              "0   2011      1   38189\n",
              "1   2011      2   48215\n",
              "2   2011      3   64045\n",
              "3   2011      4   94870\n",
              "4   2011      5  135821\n",
              "5   2011      6  143512\n",
              "6   2011      7  141341\n",
              "7   2011      8  136691\n",
              "8   2011      9  127418\n",
              "9   2011     10  123511\n",
              "10  2011     11  102167\n",
              "11  2011     12   87323"
            ]
          },
          "execution_count": 31,
          "metadata": {},
          "output_type": "execute_result"
        }
      ],
      "source": [
        "# Salin DataFrame untuk analisis musiman\n",
        "df_seasonal = df_day[['dteday', 'cnt']].copy()\n",
        "\n",
        "# Konversi kolom tanggal ke format datetime\n",
        "df_seasonal['dteday'] = pd.to_datetime(df_seasonal['dteday'])\n",
        "\n",
        "# Ekstrak tahun dan bulan\n",
        "df_seasonal['year'] = df_seasonal['dteday'].dt.year\n",
        "df_seasonal['month'] = df_seasonal['dteday'].dt.month\n",
        "\n",
        "# Agregasi jumlah penyewaan berdasarkan bulan dan tahun\n",
        "df_seasonal_agg = df_seasonal.groupby(['year', 'month'])['cnt'].sum().reset_index()\n",
        "\n",
        "# Tampilkan data pola musiman\n",
        "df_seasonal_agg.head(12)  "
      ]
    },
    {
      "cell_type": "code",
      "execution_count": 32,
      "metadata": {},
      "outputs": [
        {
          "data": {
            "image/png": "[encoded data removed]",
            "text/plain": [
              "<Figure size 1200x600 with 1 Axes>"
            ]
          },
          "metadata": {},
          "output_type": "display_data"
        }
      ],
      "source": [
        "# Ambil kolom yang diperlukan dan buat salinan\n",
        "df2 = df_day[['dteday', 'cnt']].copy()\n",
        "\n",
        "# Konversi dteday ke format datetime\n",
        "df2['dteday'] = pd.to_datetime(df2['dteday'])\n",
        "\n",
        "# Tambahkan kolom tahun dan bulan\n",
        "df2['year'] = df2['dteday'].dt.year\n",
        "df2['month'] = df2['dteday'].dt.month\n",
        "\n",
        "# Agregasi jumlah penyewaan sepeda per bulan dan tahun\n",
        "df_monthly = df2.groupby(['year', 'month'])['cnt'].sum().reset_index()\n",
        "\n",
        "# Visualisasi pola musiman\n",
        "plt.figure(figsize=(12, 6))\n",
        "sns.lineplot(data=df_monthly, x='month', y='cnt', hue='year', marker='o')\n",
        "plt.title(\"Tren Penyewaan Sepeda Berdasarkan Bulan dan Tahun\")\n",
        "plt.xlabel(\"Bulan\")\n",
        "plt.ylabel(\"Jumlah Penyewaan Sepeda\")\n",
        "plt.xticks(ticks=range(1, 13), labels=[\n",
        "    \"Jan\", \"Feb\", \"Mar\", \"Apr\", \"Mei\", \"Jun\", \"Jul\", \"Agu\", \"Sep\", \"Okt\", \"Nov\", \"Des\"\n",
        "])\n",
        "plt.legend(title=\"Tahun\")\n",
        "plt.grid(True)\n",
        "plt.show()"
      ]
    },
    {
      "cell_type": "markdown",
      "metadata": {
        "id": "DgHI7CiU8DC2"
      },
      "source": [
        "### Pertanyaan 2: Seberapa besar kontribusi pengguna terdaftar (registered) dibandingkan dengan pengguna kasual (casual) dalam total penyewaan sepeda?"
      ]
    },
    {
      "cell_type": "code",
      "execution_count": 33,
      "metadata": {
        "id": "Go0lCsvO8DC2"
      },
      "outputs": [
        {
          "name": "stdout",
          "output_type": "stream",
          "text": [
            "Rata-rata kontribusi pengguna kasual: 17.56%\n",
            "Rata-rata kontribusi pengguna terdaftar: 82.44%\n"
          ]
        },
        {
          "data": {
            "text/html": [
              "<div>\n",
              "<style scoped>\n",
              "    .dataframe tbody tr th:only-of-type {\n",
              "        vertical-align: middle;\n",
              "    }\n",
              "\n",
              "    .dataframe tbody tr th {\n",
              "        vertical-align: top;\n",
              "    }\n",
              "\n",
              "    .dataframe thead th {\n",
              "        text-align: right;\n",
              "    }\n",
              "</style>\n",
              "<table border=\"1\" class=\"dataframe\">\n",
              "  <thead>\n",
              "    <tr style=\"text-align: right;\">\n",
              "      <th></th>\n",
              "      <th>dteday</th>\n",
              "      <th>casual</th>\n",
              "      <th>registered</th>\n",
              "      <th>cnt</th>\n",
              "      <th>casual_pct</th>\n",
              "      <th>registered_pct</th>\n",
              "    </tr>\n",
              "  </thead>\n",
              "  <tbody>\n",
              "    <tr>\n",
              "      <th>0</th>\n",
              "      <td>2011-01-01</td>\n",
              "      <td>331</td>\n",
              "      <td>654</td>\n",
              "      <td>985</td>\n",
              "      <td>33.604061</td>\n",
              "      <td>66.395939</td>\n",
              "    </tr>\n",
              "    <tr>\n",
              "      <th>1</th>\n",
              "      <td>2011-01-02</td>\n",
              "      <td>131</td>\n",
              "      <td>670</td>\n",
              "      <td>801</td>\n",
              "      <td>16.354557</td>\n",
              "      <td>83.645443</td>\n",
              "    </tr>\n",
              "    <tr>\n",
              "      <th>2</th>\n",
              "      <td>2011-01-03</td>\n",
              "      <td>120</td>\n",
              "      <td>1229</td>\n",
              "      <td>1349</td>\n",
              "      <td>8.895478</td>\n",
              "      <td>91.104522</td>\n",
              "    </tr>\n",
              "    <tr>\n",
              "      <th>3</th>\n",
              "      <td>2011-01-04</td>\n",
              "      <td>108</td>\n",
              "      <td>1454</td>\n",
              "      <td>1562</td>\n",
              "      <td>6.914213</td>\n",
              "      <td>93.085787</td>\n",
              "    </tr>\n",
              "    <tr>\n",
              "      <th>4</th>\n",
              "      <td>2011-01-05</td>\n",
              "      <td>82</td>\n",
              "      <td>1518</td>\n",
              "      <td>1600</td>\n",
              "      <td>5.125000</td>\n",
              "      <td>94.875000</td>\n",
              "    </tr>\n",
              "    <tr>\n",
              "      <th>5</th>\n",
              "      <td>2011-01-06</td>\n",
              "      <td>88</td>\n",
              "      <td>1518</td>\n",
              "      <td>1606</td>\n",
              "      <td>5.479452</td>\n",
              "      <td>94.520548</td>\n",
              "    </tr>\n",
              "    <tr>\n",
              "      <th>6</th>\n",
              "      <td>2011-01-07</td>\n",
              "      <td>148</td>\n",
              "      <td>1362</td>\n",
              "      <td>1510</td>\n",
              "      <td>9.801325</td>\n",
              "      <td>90.198675</td>\n",
              "    </tr>\n",
              "    <tr>\n",
              "      <th>7</th>\n",
              "      <td>2011-01-08</td>\n",
              "      <td>68</td>\n",
              "      <td>891</td>\n",
              "      <td>959</td>\n",
              "      <td>7.090719</td>\n",
              "      <td>92.909281</td>\n",
              "    </tr>\n",
              "    <tr>\n",
              "      <th>8</th>\n",
              "      <td>2011-01-09</td>\n",
              "      <td>54</td>\n",
              "      <td>768</td>\n",
              "      <td>822</td>\n",
              "      <td>6.569343</td>\n",
              "      <td>93.430657</td>\n",
              "    </tr>\n",
              "    <tr>\n",
              "      <th>9</th>\n",
              "      <td>2011-01-10</td>\n",
              "      <td>41</td>\n",
              "      <td>1280</td>\n",
              "      <td>1321</td>\n",
              "      <td>3.103709</td>\n",
              "      <td>96.896291</td>\n",
              "    </tr>\n",
              "  </tbody>\n",
              "</table>\n",
              "</div>"
            ],
            "text/plain": [
              "      dteday  casual  registered   cnt  casual_pct  registered_pct\n",
              "0 2011-01-01     331         654   985   33.604061       66.395939\n",
              "1 2011-01-02     131         670   801   16.354557       83.645443\n",
              "2 2011-01-03     120        1229  1349    8.895478       91.104522\n",
              "3 2011-01-04     108        1454  1562    6.914213       93.085787\n",
              "4 2011-01-05      82        1518  1600    5.125000       94.875000\n",
              "5 2011-01-06      88        1518  1606    5.479452       94.520548\n",
              "6 2011-01-07     148        1362  1510    9.801325       90.198675\n",
              "7 2011-01-08      68         891   959    7.090719       92.909281\n",
              "8 2011-01-09      54         768   822    6.569343       93.430657\n",
              "9 2011-01-10      41        1280  1321    3.103709       96.896291"
            ]
          },
          "execution_count": 33,
          "metadata": {},
          "output_type": "execute_result"
        }
      ],
      "source": [
        "# Salin DataFrame untuk analisis kontribusi pengguna\n",
        "df_user = df_day[['dteday', 'casual', 'registered', 'cnt']].copy()\n",
        "\n",
        "# Konversi kolom tanggal ke format datetime\n",
        "df_user['dteday'] = pd.to_datetime(df_user['dteday'])\n",
        "\n",
        "# Hitung persentase kontribusi masing-masing pengguna terhadap total penyewaan\n",
        "df_user['casual_pct'] = (df_user['casual'] / df_user['cnt']) * 100\n",
        "df_user['registered_pct'] = (df_user['registered'] / df_user['cnt']) * 100\n",
        "\n",
        "# Hitung rata-rata kontribusi dalam keseluruhan periode\n",
        "avg_casual_pct = df_user['casual_pct'].mean()\n",
        "avg_registered_pct = df_user['registered_pct'].mean()\n",
        "\n",
        "# Cetak hasil rata-rata kontribusi\n",
        "print(f\"Rata-rata kontribusi pengguna kasual: {avg_casual_pct:.2f}%\")\n",
        "print(f\"Rata-rata kontribusi pengguna terdaftar: {avg_registered_pct:.2f}%\")\n",
        "\n",
        "# Tampilkan beberapa sampel data\n",
        "df_user.head(10)\n"
      ]
    },
    {
      "cell_type": "code",
      "execution_count": 34,
      "metadata": {},
      "outputs": [
        {
          "name": "stdout",
          "output_type": "stream",
          "text": [
            "Kontribusi pengguna kasual: 18.83%\n",
            "Kontribusi pengguna terdaftar: 81.17%\n"
          ]
        },
        {
          "data": {
            "image/png": "[encoded data removed]",
            "text/plain": [
              "<Figure size 600x600 with 1 Axes>"
            ]
          },
          "metadata": {},
          "output_type": "display_data"
        }
      ],
      "source": [
        "# Hitung total penyewaan berdasarkan jenis pengguna\n",
        "total_casual = df_day['casual'].sum()\n",
        "total_registered = df_day['registered'].sum()\n",
        "total_cnt = df_day['cnt'].sum()\n",
        "\n",
        "# Hitung persentase kontribusi masing-masing pengguna\n",
        "casual_pct = (total_casual / total_cnt) * 100\n",
        "registered_pct = (total_registered / total_cnt) * 100\n",
        "\n",
        "# Tampilkan hasil\n",
        "print(f\"Kontribusi pengguna kasual: {casual_pct:.2f}%\")\n",
        "print(f\"Kontribusi pengguna terdaftar: {registered_pct:.2f}%\")\n",
        "\n",
        "# Membuat pie chart\n",
        "labels = ['Casual', 'Registered']\n",
        "sizes = [total_casual, total_registered]\n",
        "colors = ['lightcoral', 'lightskyblue']\n",
        "\n",
        "plt.figure(figsize=(6,6))\n",
        "plt.pie(sizes, labels=labels, autopct='%1.1f%%', colors=colors, startangle=90, shadow=True)\n",
        "plt.title(\"Kontribusi Pengguna Terdaftar vs Kasual dalam Penyewaan Sepeda\")\n",
        "plt.show()\n"
      ]
    },
    {
      "cell_type": "markdown",
      "metadata": {
        "id": "_WeHlCeX8DC2"
      },
      "source": [
        "## Conclusion"
      ]
    },
    {
      "cell_type": "markdown",
      "metadata": {
        "id": "ZTcyR48Y8DC2"
      },
      "source": [
        "- Conclution pertanyaan 1 :\n",
        "    - Dari analisis jumlah penyewaan sepeda berdasarkan bulan dan tahun, ditemukan bahwa terdapat pola musiman yang signifikan. Penyewaan cenderung meningkat selama musim panas dan menurun pada musim dingin, menunjukkan bahwa faktor cuaca berpengaruh besar terhadap jumlah penyewaan sepeda. Selain itu, tren tahunan menunjukkan adanya pertumbuhan jumlah penyewaan dari tahun ke tahun, yang mungkin dipengaruhi oleh meningkatnya popularitas layanan penyewaan sepeda atau faktor eksternal lainnya seperti kebijakan transportasi dan infrastruktur kota.\n",
        "\n",
        "- Conclution pertanyaan 2 :\n",
        "    - Dari analisis kontribusi pengguna terdaftar (registered) dibandingkan dengan pengguna kasual (casual) dalam total penyewaan sepeda, ditemukan bahwa pengguna terdaftar secara konsisten memberikan kontribusi yang lebih besar terhadap total penyewaan. Jumlah penyewaan oleh pengguna terdaftar biasanya jauh lebih tinggi dibandingkan pengguna kasual, terutama pada hari kerja, yang menunjukkan bahwa banyak pengguna terdaftar menggunakan layanan ini sebagai bagian dari rutinitas harian, seperti perjalanan ke tempat kerja atau sekolah. Sementara itu, pengguna kasual cenderung lebih banyak menyewa sepeda pada akhir pekan atau hari libur, kemungkinan untuk keperluan rekreasi.\n"
      ]
    }
  ],
  "metadata": {
    "colab": {
      "provenance": [],
      "toc_visible": true
    },
    "kernelspec": {
      "display_name": "Python 3",
      "language": "python",
      "name": "python3"
    },
    "language_info": {
      "codemirror_mode": {
        "name": "ipython",
        "version": 3
      },
      "file_extension": ".py",
      "mimetype": "text/x-python",
      "name": "python",
      "nbconvert_exporter": "python",
      "pygments_lexer": "ipython3",
      "version": "3.13.2"
    },
    "orig_nbformat": 4,
    "vscode": {
      "interpreter": {
        "hash": "972b3bf27e332e87b5379f2791f6ef9dfc79c71018c370b0d7423235e20fe4d7"
      }
    }
  },
  "nbformat": 4,
  "nbformat_minor": 0
}
