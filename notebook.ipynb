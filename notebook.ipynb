{
  "cells": [
    {
      "cell_type": "markdown",
      "metadata": {
        "id": "H9wADwK78DCz"
      },
      "source": [
        "# Proyek Analisis Data: [Input Nama Dataset]\n",
        "- **Nama:** Dimas Aditia Anugerah Setiady\n",
        "- **Email:** mc240d5y0910@student.devacademy.id\n",
        "- **ID Dicoding:** MC240D5Y0910"
      ]
    },
    {
      "cell_type": "markdown",
      "metadata": {
        "id": "eE0raob58DC0"
      },
      "source": [
        "## Menentukan Pertanyaan Bisnis"
      ]
    },
    {
      "cell_type": "markdown",
      "metadata": {
        "id": "GmQeQ5YF8DC0"
      },
      "source": [
        "1. Bagaimana pola penggunaan sepeda (total, terdaftar, dan kasual) bervariasi berdasarkan musim dan kondisi cuaca sepanjang tahun?\n",
        "2. Bagaimana proporsi penyewaan sepeda oleh pengguna terdaftar dan kasual bervariasi antara hari kerja/akhir pekan dan kondisi cuaca, serta rekomendasi strategis apa yang dapat diberikan?"
      ]
    },
    {
      "cell_type": "markdown",
      "metadata": {
        "id": "H-z4QGlO8DC1"
      },
      "source": [
        "## Import Semua Packages/Library yang Digunakan"
      ]
    },
    {
      "cell_type": "code",
      "execution_count": 190,
      "metadata": {
        "id": "FVYwaObI8DC1"
      },
      "outputs": [],
      "source": [
        "# Pilihan project: Pandas, Matplotlib, Seaborn, & Streamlit (khusus untuk file py)\n",
        "import pandas as pd\n",
        "import numpy as np\n",
        "import matplotlib.pyplot as plt\n",
        "import matplotlib.ticker as ticker # konversi angka untuk kasus pertanyaan 2\n",
        "import seaborn as sns\n",
        "\n",
        "pd.set_option('display.max_columns', None)  # Menampilkan semua kolom\n",
        "pd.set_option('display.expand_frame_repr', False)  # Mencegah tampilan DataFrame menjadi beberapa baris"
      ]
    },
    {
      "cell_type": "markdown",
      "metadata": {
        "id": "h_Sh51Xy8DC1"
      },
      "source": [
        "## Data Wrangling"
      ]
    },
    {
      "cell_type": "markdown",
      "metadata": {
        "id": "sXU2GBYu8DC1"
      },
      "source": [
        "### Gathering Data"
      ]
    },
    {
      "cell_type": "code",
      "execution_count": 191,
      "metadata": {
        "id": "zjCBk1BI8DC1"
      },
      "outputs": [
        {
          "data": {
            "text/html": [
              "<div>\n",
              "<style scoped>\n",
              "    .dataframe tbody tr th:only-of-type {\n",
              "        vertical-align: middle;\n",
              "    }\n",
              "\n",
              "    .dataframe tbody tr th {\n",
              "        vertical-align: top;\n",
              "    }\n",
              "\n",
              "    .dataframe thead th {\n",
              "        text-align: right;\n",
              "    }\n",
              "</style>\n",
              "<table border=\"1\" class=\"dataframe\">\n",
              "  <thead>\n",
              "    <tr style=\"text-align: right;\">\n",
              "      <th></th>\n",
              "      <th>instant</th>\n",
              "      <th>dteday</th>\n",
              "      <th>season</th>\n",
              "      <th>yr</th>\n",
              "      <th>mnth</th>\n",
              "      <th>holiday</th>\n",
              "      <th>weekday</th>\n",
              "      <th>workingday</th>\n",
              "      <th>weathersit</th>\n",
              "      <th>temp</th>\n",
              "      <th>atemp</th>\n",
              "      <th>hum</th>\n",
              "      <th>windspeed</th>\n",
              "      <th>casual</th>\n",
              "      <th>registered</th>\n",
              "      <th>cnt</th>\n",
              "    </tr>\n",
              "  </thead>\n",
              "  <tbody>\n",
              "    <tr>\n",
              "      <th>0</th>\n",
              "      <td>1</td>\n",
              "      <td>2011-01-01</td>\n",
              "      <td>1</td>\n",
              "      <td>0</td>\n",
              "      <td>1</td>\n",
              "      <td>0</td>\n",
              "      <td>6</td>\n",
              "      <td>0</td>\n",
              "      <td>2</td>\n",
              "      <td>0.344167</td>\n",
              "      <td>0.363625</td>\n",
              "      <td>0.805833</td>\n",
              "      <td>0.160446</td>\n",
              "      <td>331</td>\n",
              "      <td>654</td>\n",
              "      <td>985</td>\n",
              "    </tr>\n",
              "    <tr>\n",
              "      <th>1</th>\n",
              "      <td>2</td>\n",
              "      <td>2011-01-02</td>\n",
              "      <td>1</td>\n",
              "      <td>0</td>\n",
              "      <td>1</td>\n",
              "      <td>0</td>\n",
              "      <td>0</td>\n",
              "      <td>0</td>\n",
              "      <td>2</td>\n",
              "      <td>0.363478</td>\n",
              "      <td>0.353739</td>\n",
              "      <td>0.696087</td>\n",
              "      <td>0.248539</td>\n",
              "      <td>131</td>\n",
              "      <td>670</td>\n",
              "      <td>801</td>\n",
              "    </tr>\n",
              "    <tr>\n",
              "      <th>2</th>\n",
              "      <td>3</td>\n",
              "      <td>2011-01-03</td>\n",
              "      <td>1</td>\n",
              "      <td>0</td>\n",
              "      <td>1</td>\n",
              "      <td>0</td>\n",
              "      <td>1</td>\n",
              "      <td>1</td>\n",
              "      <td>1</td>\n",
              "      <td>0.196364</td>\n",
              "      <td>0.189405</td>\n",
              "      <td>0.437273</td>\n",
              "      <td>0.248309</td>\n",
              "      <td>120</td>\n",
              "      <td>1229</td>\n",
              "      <td>1349</td>\n",
              "    </tr>\n",
              "    <tr>\n",
              "      <th>3</th>\n",
              "      <td>4</td>\n",
              "      <td>2011-01-04</td>\n",
              "      <td>1</td>\n",
              "      <td>0</td>\n",
              "      <td>1</td>\n",
              "      <td>0</td>\n",
              "      <td>2</td>\n",
              "      <td>1</td>\n",
              "      <td>1</td>\n",
              "      <td>0.200000</td>\n",
              "      <td>0.212122</td>\n",
              "      <td>0.590435</td>\n",
              "      <td>0.160296</td>\n",
              "      <td>108</td>\n",
              "      <td>1454</td>\n",
              "      <td>1562</td>\n",
              "    </tr>\n",
              "    <tr>\n",
              "      <th>4</th>\n",
              "      <td>5</td>\n",
              "      <td>2011-01-05</td>\n",
              "      <td>1</td>\n",
              "      <td>0</td>\n",
              "      <td>1</td>\n",
              "      <td>0</td>\n",
              "      <td>3</td>\n",
              "      <td>1</td>\n",
              "      <td>1</td>\n",
              "      <td>0.226957</td>\n",
              "      <td>0.229270</td>\n",
              "      <td>0.436957</td>\n",
              "      <td>0.186900</td>\n",
              "      <td>82</td>\n",
              "      <td>1518</td>\n",
              "      <td>1600</td>\n",
              "    </tr>\n",
              "  </tbody>\n",
              "</table>\n",
              "</div>"
            ],
            "text/plain": [
              "   instant      dteday  season  yr  mnth  holiday  weekday  workingday  weathersit      temp     atemp       hum  windspeed  casual  registered   cnt\n",
              "0        1  2011-01-01       1   0     1        0        6           0           2  0.344167  0.363625  0.805833   0.160446     331         654   985\n",
              "1        2  2011-01-02       1   0     1        0        0           0           2  0.363478  0.353739  0.696087   0.248539     131         670   801\n",
              "2        3  2011-01-03       1   0     1        0        1           1           1  0.196364  0.189405  0.437273   0.248309     120        1229  1349\n",
              "3        4  2011-01-04       1   0     1        0        2           1           1  0.200000  0.212122  0.590435   0.160296     108        1454  1562\n",
              "4        5  2011-01-05       1   0     1        0        3           1           1  0.226957  0.229270  0.436957   0.186900      82        1518  1600"
            ]
          },
          "execution_count": 191,
          "metadata": {},
          "output_type": "execute_result"
        }
      ],
      "source": [
        "# Membaca file CSV Day\n",
        "df_day = pd.read_csv('data/day.csv')\n",
        "df_day.head()"
      ]
    },
    {
      "cell_type": "code",
      "execution_count": 192,
      "metadata": {},
      "outputs": [
        {
          "data": {
            "text/html": [
              "<div>\n",
              "<style scoped>\n",
              "    .dataframe tbody tr th:only-of-type {\n",
              "        vertical-align: middle;\n",
              "    }\n",
              "\n",
              "    .dataframe tbody tr th {\n",
              "        vertical-align: top;\n",
              "    }\n",
              "\n",
              "    .dataframe thead th {\n",
              "        text-align: right;\n",
              "    }\n",
              "</style>\n",
              "<table border=\"1\" class=\"dataframe\">\n",
              "  <thead>\n",
              "    <tr style=\"text-align: right;\">\n",
              "      <th></th>\n",
              "      <th>instant</th>\n",
              "      <th>dteday</th>\n",
              "      <th>season</th>\n",
              "      <th>yr</th>\n",
              "      <th>mnth</th>\n",
              "      <th>hr</th>\n",
              "      <th>holiday</th>\n",
              "      <th>weekday</th>\n",
              "      <th>workingday</th>\n",
              "      <th>weathersit</th>\n",
              "      <th>temp</th>\n",
              "      <th>atemp</th>\n",
              "      <th>hum</th>\n",
              "      <th>windspeed</th>\n",
              "      <th>casual</th>\n",
              "      <th>registered</th>\n",
              "      <th>cnt</th>\n",
              "    </tr>\n",
              "  </thead>\n",
              "  <tbody>\n",
              "    <tr>\n",
              "      <th>0</th>\n",
              "      <td>1</td>\n",
              "      <td>2011-01-01</td>\n",
              "      <td>1</td>\n",
              "      <td>0</td>\n",
              "      <td>1</td>\n",
              "      <td>0</td>\n",
              "      <td>0</td>\n",
              "      <td>6</td>\n",
              "      <td>0</td>\n",
              "      <td>1</td>\n",
              "      <td>0.24</td>\n",
              "      <td>0.2879</td>\n",
              "      <td>0.81</td>\n",
              "      <td>0.0</td>\n",
              "      <td>3</td>\n",
              "      <td>13</td>\n",
              "      <td>16</td>\n",
              "    </tr>\n",
              "    <tr>\n",
              "      <th>1</th>\n",
              "      <td>2</td>\n",
              "      <td>2011-01-01</td>\n",
              "      <td>1</td>\n",
              "      <td>0</td>\n",
              "      <td>1</td>\n",
              "      <td>1</td>\n",
              "      <td>0</td>\n",
              "      <td>6</td>\n",
              "      <td>0</td>\n",
              "      <td>1</td>\n",
              "      <td>0.22</td>\n",
              "      <td>0.2727</td>\n",
              "      <td>0.80</td>\n",
              "      <td>0.0</td>\n",
              "      <td>8</td>\n",
              "      <td>32</td>\n",
              "      <td>40</td>\n",
              "    </tr>\n",
              "    <tr>\n",
              "      <th>2</th>\n",
              "      <td>3</td>\n",
              "      <td>2011-01-01</td>\n",
              "      <td>1</td>\n",
              "      <td>0</td>\n",
              "      <td>1</td>\n",
              "      <td>2</td>\n",
              "      <td>0</td>\n",
              "      <td>6</td>\n",
              "      <td>0</td>\n",
              "      <td>1</td>\n",
              "      <td>0.22</td>\n",
              "      <td>0.2727</td>\n",
              "      <td>0.80</td>\n",
              "      <td>0.0</td>\n",
              "      <td>5</td>\n",
              "      <td>27</td>\n",
              "      <td>32</td>\n",
              "    </tr>\n",
              "    <tr>\n",
              "      <th>3</th>\n",
              "      <td>4</td>\n",
              "      <td>2011-01-01</td>\n",
              "      <td>1</td>\n",
              "      <td>0</td>\n",
              "      <td>1</td>\n",
              "      <td>3</td>\n",
              "      <td>0</td>\n",
              "      <td>6</td>\n",
              "      <td>0</td>\n",
              "      <td>1</td>\n",
              "      <td>0.24</td>\n",
              "      <td>0.2879</td>\n",
              "      <td>0.75</td>\n",
              "      <td>0.0</td>\n",
              "      <td>3</td>\n",
              "      <td>10</td>\n",
              "      <td>13</td>\n",
              "    </tr>\n",
              "    <tr>\n",
              "      <th>4</th>\n",
              "      <td>5</td>\n",
              "      <td>2011-01-01</td>\n",
              "      <td>1</td>\n",
              "      <td>0</td>\n",
              "      <td>1</td>\n",
              "      <td>4</td>\n",
              "      <td>0</td>\n",
              "      <td>6</td>\n",
              "      <td>0</td>\n",
              "      <td>1</td>\n",
              "      <td>0.24</td>\n",
              "      <td>0.2879</td>\n",
              "      <td>0.75</td>\n",
              "      <td>0.0</td>\n",
              "      <td>0</td>\n",
              "      <td>1</td>\n",
              "      <td>1</td>\n",
              "    </tr>\n",
              "  </tbody>\n",
              "</table>\n",
              "</div>"
            ],
            "text/plain": [
              "   instant      dteday  season  yr  mnth  hr  holiday  weekday  workingday  weathersit  temp   atemp   hum  windspeed  casual  registered  cnt\n",
              "0        1  2011-01-01       1   0     1   0        0        6           0           1  0.24  0.2879  0.81        0.0       3          13   16\n",
              "1        2  2011-01-01       1   0     1   1        0        6           0           1  0.22  0.2727  0.80        0.0       8          32   40\n",
              "2        3  2011-01-01       1   0     1   2        0        6           0           1  0.22  0.2727  0.80        0.0       5          27   32\n",
              "3        4  2011-01-01       1   0     1   3        0        6           0           1  0.24  0.2879  0.75        0.0       3          10   13\n",
              "4        5  2011-01-01       1   0     1   4        0        6           0           1  0.24  0.2879  0.75        0.0       0           1    1"
            ]
          },
          "execution_count": 192,
          "metadata": {},
          "output_type": "execute_result"
        }
      ],
      "source": [
        "df_hour = pd.read_csv('data/hour.csv')\n",
        "df_hour.head()"
      ]
    },
    {
      "cell_type": "markdown",
      "metadata": {
        "id": "MMi6xGaDkbCi"
      },
      "source": [
        "*Insight:*\n",
        "1. Normalisasi Data dan Interpretasi Nilai Asli\n",
        "- Semua variabel cuaca (temp, atemp, hum, windspeed) sudah dinormalisasi untuk konsistensi dalam perhitungan.\n",
        "- Untuk mendapatkan nilai sebenarnya :\n",
        "    - Suhu (temp) ->  temp * 41 °C\n",
        "    - Suhu Terasa (atemp) → atemp * 50 °C\n",
        "    - Kelembaban (hum) → hum * 100 %\n",
        "    Kecepatan Angin (windspeed) → windspeed * 67\n",
        "\n",
        "2. Hubungan antara day.csv dan hour.csv\n",
        "- day.csv adalah hasil agregasi hour.csv, sehingga beberapa variabel dihitung berdasarkan rata-rata atau total per hari:\n",
        "    - Variabel rata-rata per hari: temp, atemp, hum, windspeed\n",
        "    - Variabel berdasarkan modus per hari: weathersit\n",
        "    - Variabel total per hari: casual, registered, cnt\n",
        "\n",
        "3. Pola dan Klasifikasi Data\n",
        "- Kategori Waktu :\n",
        "    - yr, season, mnth, weekday → data nominal\n",
        "    - holiday, workingday → data boolean (0 atau 1)\n",
        "    - dteday bisa menjadi acuan utama karena merepresentasikan hari tertentu\n",
        "\n",
        "- Kategori Pengguna :\n",
        "    - casual, registered, dan cnt adalah data diskrit karena berbentuk hitungan\n",
        "\n",
        "- Kategori Cuaca :\n",
        "    - weathersit adalah data ordinal karena ada urutan dalam kondisi cuaca (cerah → mendung → hujan → salju)\n",
        "    - temp, atemp, hum, windspeed adalah data kontinu karena memiliki rentang nilai"
      ]
    },
    {
      "cell_type": "markdown",
      "metadata": {
        "id": "FHSiqaZp8DC1"
      },
      "source": [
        "### Assessing Data"
      ]
    },
    {
      "cell_type": "markdown",
      "metadata": {},
      "source": [
        "1. Kehilangan Data (Missing Values)\n",
        "    - Apakah ada kolom yang memiliki nilai kosong atau tidak tersedia?\n",
        "    - Bagaimana cara menangani data yang hilang (menghapus, mengisi dengan rata-rata, atau metode lain)?\n",
        "\n",
        "2. Nilai Tidak Valid (Invalid Values)\n",
        "    - Apakah terdapat data yang tidak masuk akal, seperti suhu di bawah nol atau kelembaban lebih dari 100%?\n",
        "\n",
        "3. Data Duplikat (Duplicate Entries)\n",
        "    - Apakah ada baris data yang berulang dan sama?\n",
        "\n",
        "4. Ketidaktepatan Data (Inaccurate Values)\n",
        "    - Apakah nilai yang dicatat sesuai dengan pengamatan atau logika yang diharapkan?\n",
        "\n",
        "5. Pencilan (Outliers)\n",
        "    - Apakah ada data yang memiliki nilai jauh berbeda dari mayoritas data lainnya?"
      ]
    },
    {
      "cell_type": "markdown",
      "metadata": {},
      "source": [
        "**1. Kehilangan Data (Missing Values)**"
      ]
    },
    {
      "cell_type": "code",
      "execution_count": 193,
      "metadata": {},
      "outputs": [
        {
          "name": "stdout",
          "output_type": "stream",
          "text": [
            "Missing values in df_hour:\n",
            "instant       0\n",
            "dteday        0\n",
            "season        0\n",
            "yr            0\n",
            "mnth          0\n",
            "hr            0\n",
            "holiday       0\n",
            "weekday       0\n",
            "workingday    0\n",
            "weathersit    0\n",
            "temp          0\n",
            "atemp         0\n",
            "hum           0\n",
            "windspeed     0\n",
            "casual        0\n",
            "registered    0\n",
            "cnt           0\n",
            "dtype: int64\n",
            "-------------------------------\n",
            "Missing values in df_day:\n",
            "instant       0\n",
            "dteday        0\n",
            "season        0\n",
            "yr            0\n",
            "mnth          0\n",
            "holiday       0\n",
            "weekday       0\n",
            "workingday    0\n",
            "weathersit    0\n",
            "temp          0\n",
            "atemp         0\n",
            "hum           0\n",
            "windspeed     0\n",
            "casual        0\n",
            "registered    0\n",
            "cnt           0\n",
            "dtype: int64\n"
          ]
        }
      ],
      "source": [
        "# Mengecek jumlah missing values pada setiap kolom di df_hour\n",
        "print(\"Missing values in df_hour:\")\n",
        "print(df_hour.isnull().sum())  # Menampilkan jumlah nilai kosong di setiap kolom\n",
        "\n",
        "print(\"-------------------------------\")\n",
        "\n",
        "# Mengecek jumlah missing values pada setiap kolom di df_day\n",
        "print(\"Missing values in df_day:\")\n",
        "print(df_day.isnull().sum())  # Menampilkan jumlah nilai kosong di setiap kolom"
      ]
    },
    {
      "cell_type": "markdown",
      "metadata": {},
      "source": [
        "**Insight Missing Value:** Tidak ditemukan nilai null pada kedua dataset, sehingga data dapat digunakan tanpa perlu dilakukan pembersihan terkait missing values."
      ]
    },
    {
      "cell_type": "markdown",
      "metadata": {},
      "source": [
        "**2. Nilai Tidak Valid (Invalid Values)**"
      ]
    },
    {
      "cell_type": "markdown",
      "metadata": {},
      "source": [
        "*Periksa Data yang akan digunakan*"
      ]
    },
    {
      "cell_type": "code",
      "execution_count": 194,
      "metadata": {},
      "outputs": [
        {
          "name": "stdout",
          "output_type": "stream",
          "text": [
            "<class 'pandas.core.frame.DataFrame'>\n",
            "RangeIndex: 17379 entries, 0 to 17378\n",
            "Data columns (total 17 columns):\n",
            " #   Column      Non-Null Count  Dtype  \n",
            "---  ------      --------------  -----  \n",
            " 0   instant     17379 non-null  int64  \n",
            " 1   dteday      17379 non-null  object \n",
            " 2   season      17379 non-null  int64  \n",
            " 3   yr          17379 non-null  int64  \n",
            " 4   mnth        17379 non-null  int64  \n",
            " 5   hr          17379 non-null  int64  \n",
            " 6   holiday     17379 non-null  int64  \n",
            " 7   weekday     17379 non-null  int64  \n",
            " 8   workingday  17379 non-null  int64  \n",
            " 9   weathersit  17379 non-null  int64  \n",
            " 10  temp        17379 non-null  float64\n",
            " 11  atemp       17379 non-null  float64\n",
            " 12  hum         17379 non-null  float64\n",
            " 13  windspeed   17379 non-null  float64\n",
            " 14  casual      17379 non-null  int64  \n",
            " 15  registered  17379 non-null  int64  \n",
            " 16  cnt         17379 non-null  int64  \n",
            "dtypes: float64(4), int64(12), object(1)\n",
            "memory usage: 2.3+ MB\n"
          ]
        }
      ],
      "source": [
        "df_hour.info()"
      ]
    },
    {
      "cell_type": "code",
      "execution_count": 195,
      "metadata": {},
      "outputs": [
        {
          "name": "stdout",
          "output_type": "stream",
          "text": [
            "<class 'pandas.core.frame.DataFrame'>\n",
            "RangeIndex: 731 entries, 0 to 730\n",
            "Data columns (total 16 columns):\n",
            " #   Column      Non-Null Count  Dtype  \n",
            "---  ------      --------------  -----  \n",
            " 0   instant     731 non-null    int64  \n",
            " 1   dteday      731 non-null    object \n",
            " 2   season      731 non-null    int64  \n",
            " 3   yr          731 non-null    int64  \n",
            " 4   mnth        731 non-null    int64  \n",
            " 5   holiday     731 non-null    int64  \n",
            " 6   weekday     731 non-null    int64  \n",
            " 7   workingday  731 non-null    int64  \n",
            " 8   weathersit  731 non-null    int64  \n",
            " 9   temp        731 non-null    float64\n",
            " 10  atemp       731 non-null    float64\n",
            " 11  hum         731 non-null    float64\n",
            " 12  windspeed   731 non-null    float64\n",
            " 13  casual      731 non-null    int64  \n",
            " 14  registered  731 non-null    int64  \n",
            " 15  cnt         731 non-null    int64  \n",
            "dtypes: float64(4), int64(11), object(1)\n",
            "memory usage: 91.5+ KB\n"
          ]
        }
      ],
      "source": [
        "df_day.info()"
      ]
    },
    {
      "cell_type": "markdown",
      "metadata": {},
      "source": [
        "*Mengecek Rentang Nilai*"
      ]
    },
    {
      "cell_type": "code",
      "execution_count": 196,
      "metadata": {},
      "outputs": [
        {
          "name": "stdout",
          "output_type": "stream",
          "text": [
            "Descriptive Statistics for df_hour:\n",
            "          instant        season            yr          mnth            hr       holiday       weekday    workingday    weathersit          temp         atemp           hum     windspeed        casual    registered           cnt\n",
            "count  17379.0000  17379.000000  17379.000000  17379.000000  17379.000000  17379.000000  17379.000000  17379.000000  17379.000000  17379.000000  17379.000000  17379.000000  17379.000000  17379.000000  17379.000000  17379.000000\n",
            "mean    8690.0000      2.501640      0.502561      6.537775     11.546752      0.028770      3.003683      0.682721      1.425283      0.496987      0.475775      0.627229      0.190098     35.676218    153.786869    189.463088\n",
            "std     5017.0295      1.106918      0.500008      3.438776      6.914405      0.167165      2.005771      0.465431      0.639357      0.192556      0.171850      0.192930      0.122340     49.305030    151.357286    181.387599\n",
            "min        1.0000      1.000000      0.000000      1.000000      0.000000      0.000000      0.000000      0.000000      1.000000      0.020000      0.000000      0.000000      0.000000      0.000000      0.000000      1.000000\n",
            "25%     4345.5000      2.000000      0.000000      4.000000      6.000000      0.000000      1.000000      0.000000      1.000000      0.340000      0.333300      0.480000      0.104500      4.000000     34.000000     40.000000\n",
            "50%     8690.0000      3.000000      1.000000      7.000000     12.000000      0.000000      3.000000      1.000000      1.000000      0.500000      0.484800      0.630000      0.194000     17.000000    115.000000    142.000000\n",
            "75%    13034.5000      3.000000      1.000000     10.000000     18.000000      0.000000      5.000000      1.000000      2.000000      0.660000      0.621200      0.780000      0.253700     48.000000    220.000000    281.000000\n",
            "max    17379.0000      4.000000      1.000000     12.000000     23.000000      1.000000      6.000000      1.000000      4.000000      1.000000      1.000000      1.000000      0.850700    367.000000    886.000000    977.000000\n",
            "--------------------------------------------------\n",
            "Descriptive Statistics for df_day:\n",
            "          instant      season          yr        mnth     holiday     weekday  workingday  weathersit        temp       atemp         hum   windspeed       casual   registered          cnt\n",
            "count  731.000000  731.000000  731.000000  731.000000  731.000000  731.000000  731.000000  731.000000  731.000000  731.000000  731.000000  731.000000   731.000000   731.000000   731.000000\n",
            "mean   366.000000    2.496580    0.500684    6.519836    0.028728    2.997264    0.683995    1.395349    0.495385    0.474354    0.627894    0.190486   848.176471  3656.172367  4504.348837\n",
            "std    211.165812    1.110807    0.500342    3.451913    0.167155    2.004787    0.465233    0.544894    0.183051    0.162961    0.142429    0.077498   686.622488  1560.256377  1937.211452\n",
            "min      1.000000    1.000000    0.000000    1.000000    0.000000    0.000000    0.000000    1.000000    0.059130    0.079070    0.000000    0.022392     2.000000    20.000000    22.000000\n",
            "25%    183.500000    2.000000    0.000000    4.000000    0.000000    1.000000    0.000000    1.000000    0.337083    0.337842    0.520000    0.134950   315.500000  2497.000000  3152.000000\n",
            "50%    366.000000    3.000000    1.000000    7.000000    0.000000    3.000000    1.000000    1.000000    0.498333    0.486733    0.626667    0.180975   713.000000  3662.000000  4548.000000\n",
            "75%    548.500000    3.000000    1.000000   10.000000    0.000000    5.000000    1.000000    2.000000    0.655417    0.608602    0.730209    0.233214  1096.000000  4776.500000  5956.000000\n",
            "max    731.000000    4.000000    1.000000   12.000000    1.000000    6.000000    1.000000    3.000000    0.861667    0.840896    0.972500    0.507463  3410.000000  6946.000000  8714.000000\n"
          ]
        }
      ],
      "source": [
        "print(\"Descriptive Statistics for df_hour:\")\n",
        "print(df_hour.describe())\n",
        "print(\"-\" * 50)  \n",
        "print(\"Descriptive Statistics for df_day:\")\n",
        "print(df_day.describe())"
      ]
    },
    {
      "cell_type": "markdown",
      "metadata": {},
      "source": [
        "*Mengecek Kategori yang Tidak Sesuai*"
      ]
    },
    {
      "cell_type": "code",
      "execution_count": 197,
      "metadata": {},
      "outputs": [
        {
          "name": "stdout",
          "output_type": "stream",
          "text": [
            "[1 2 3 4]\n",
            "[2 1 3]\n"
          ]
        }
      ],
      "source": [
        "print(df_hour['season'].unique())\n",
        "print(df_day['weathersit'].unique())"
      ]
    },
    {
      "cell_type": "markdown",
      "metadata": {},
      "source": [
        "**noted** : karena nilai nomor 4 tidak muncul di df_day, mungkin tidak ada data hari dengan kondisi hujan lebat atau cuaca yang diwakilkan dengan nomor 4."
      ]
    },
    {
      "cell_type": "markdown",
      "metadata": {},
      "source": [
        "*Mengecek Nilai Negatif yang Tidak Seharusnya*"
      ]
    },
    {
      "cell_type": "code",
      "execution_count": 198,
      "metadata": {},
      "outputs": [
        {
          "name": "stdout",
          "output_type": "stream",
          "text": [
            "Empty DataFrame\n",
            "Columns: [instant, dteday, season, yr, mnth, hr, holiday, weekday, workingday, weathersit, temp, atemp, hum, windspeed, casual, registered, cnt]\n",
            "Index: []\n",
            "Empty DataFrame\n",
            "Columns: [instant, dteday, season, yr, mnth, holiday, weekday, workingday, weathersit, temp, atemp, hum, windspeed, casual, registered, cnt]\n",
            "Index: []\n"
          ]
        }
      ],
      "source": [
        "print(df_hour[df_hour['cnt'] < 0])\n",
        "print(df_day[df_day['cnt'] < 0])"
      ]
    },
    {
      "cell_type": "markdown",
      "metadata": {},
      "source": [
        "**Noted** : Tidak ada nilai negatif dalam df_hour dan df_day, sehingga datanya sudah sesuai tanpa adanya angka negatif."
      ]
    },
    {
      "cell_type": "markdown",
      "metadata": {},
      "source": [
        "*Identifikasi Nilai yang Tidak Masuk Akal*"
      ]
    },
    {
      "cell_type": "code",
      "execution_count": 199,
      "metadata": {},
      "outputs": [
        {
          "name": "stdout",
          "output_type": "stream",
          "text": [
            "Empty DataFrame\n",
            "Columns: [instant, dteday, season, yr, mnth, hr, holiday, weekday, workingday, weathersit, temp, atemp, hum, windspeed, casual, registered, cnt]\n",
            "Index: []\n",
            "Empty DataFrame\n",
            "Columns: [instant, dteday, season, yr, mnth, holiday, weekday, workingday, weathersit, temp, atemp, hum, windspeed, casual, registered, cnt]\n",
            "Index: []\n"
          ]
        }
      ],
      "source": [
        "print(df_hour[(df_hour['hum'] < 0) | (df_hour['hum'] > 1)])\n",
        "print(df_day[(df_day['hum'] < 0) | (df_day['hum'] > 1)])"
      ]
    },
    {
      "cell_type": "markdown",
      "metadata": {
        "id": "7dtxhAPrkhPL"
      },
      "source": [
        "**Insight :** Tidak ditemukan nilai yang tidak masuk akal pada dataset, seperti suhu di bawah nol atau kelembaban di luar rentang yang valid. Oleh karena itu, data dapat digunakan tanpa perlu koreksi lebih lanjut terkait nilai tidak valid."
      ]
    },
    {
      "cell_type": "markdown",
      "metadata": {},
      "source": [
        "**3. Data Duplikat (Duplicate Entries)**"
      ]
    },
    {
      "cell_type": "code",
      "execution_count": null,
      "metadata": {},
      "outputs": [
        {
          "name": "stdout",
          "output_type": "stream",
          "text": [
            "df_hour: 0\n",
            "df_day: 0\n"
          ]
        }
      ],
      "source": [
        "# Mengecek jumlah data duplikat\n",
        "print(\"df_hour:\", df_hour.duplicated().sum())\n",
        "print(\"df_day:\", df_day.duplicated().sum())"
      ]
    },
    {
      "cell_type": "code",
      "execution_count": 202,
      "metadata": {},
      "outputs": [
        {
          "name": "stdout",
          "output_type": "stream",
          "text": [
            "Data duplikat di df_hour:\n",
            "Empty DataFrame\n",
            "Columns: [instant, dteday, season, yr, mnth, hr, holiday, weekday, workingday, weathersit, temp, atemp, hum, windspeed, casual, registered, cnt]\n",
            "Index: []\n",
            "-------------------------------\n",
            "Data duplikat di df_day:\n",
            "Empty DataFrame\n",
            "Columns: [instant, dteday, season, yr, mnth, holiday, weekday, workingday, weathersit, temp, atemp, hum, windspeed, casual, registered, cnt]\n",
            "Index: []\n"
          ]
        }
      ],
      "source": [
        "# Menampilkan data duplikat jika ada\n",
        "print(\"Data duplikat di df_hour:\")\n",
        "print(df_hour[df_hour.duplicated()])\n",
        "\n",
        "print(\"-------------------------------\")\n",
        "\n",
        "print(\"Data duplikat di df_day:\")\n",
        "print(df_day[df_day.duplicated()])"
      ]
    },
    {
      "cell_type": "markdown",
      "metadata": {},
      "source": [
        "**Insight Data Duplikat (Duplicate Entries)** : Tidak ditemukan data duplikat pada kedua dataset, sehingga tidak perlu dilakukan pembersihan terkait duplikasi data."
      ]
    },
    {
      "cell_type": "markdown",
      "metadata": {},
      "source": [
        "**4. Ketidaktepatan Data (Inaccurate Values)**"
      ]
    },
    {
      "cell_type": "code",
      "execution_count": 203,
      "metadata": {},
      "outputs": [
        {
          "name": "stdout",
          "output_type": "stream",
          "text": [
            "Cek suhu tidak wajar:\n",
            "Empty DataFrame\n",
            "Columns: [instant, dteday, season, yr, mnth, hr, holiday, weekday, workingday, weathersit, temp, atemp, hum, windspeed, casual, registered, cnt]\n",
            "Index: []\n",
            "Empty DataFrame\n",
            "Columns: [instant, dteday, season, yr, mnth, holiday, weekday, workingday, weathersit, temp, atemp, hum, windspeed, casual, registered, cnt]\n",
            "Index: []\n"
          ]
        }
      ],
      "source": [
        "# Memeriksa apakah terdapat suhu di bawah nol atau di atas 50 derajat Celsius\n",
        "print(\"Cek suhu tidak wajar:\")\n",
        "print(df_hour[(df_hour['temp'] < 0) | (df_hour['temp'] > 50)]) \n",
        "print(df_day[(df_day['temp'] < 0) | (df_day['temp'] > 50)])"
      ]
    },
    {
      "cell_type": "code",
      "execution_count": 204,
      "metadata": {},
      "outputs": [
        {
          "name": "stdout",
          "output_type": "stream",
          "text": [
            "\n",
            "Cek kelembaban tidak wajar:\n",
            "Empty DataFrame\n",
            "Columns: [instant, dteday, season, yr, mnth, hr, holiday, weekday, workingday, weathersit, temp, atemp, hum, windspeed, casual, registered, cnt]\n",
            "Index: []\n",
            "Empty DataFrame\n",
            "Columns: [instant, dteday, season, yr, mnth, holiday, weekday, workingday, weathersit, temp, atemp, hum, windspeed, casual, registered, cnt]\n",
            "Index: []\n"
          ]
        }
      ],
      "source": [
        "# Memeriksa apakah kelembaban berada dalam rentang 0-100%\n",
        "print(\"\\nCek kelembaban tidak wajar:\")\n",
        "print(df_hour[(df_hour['hum'] < 0) | (df_hour['hum'] > 1)])  # Kelembaban dalam skala 0-1\n",
        "print(df_day[(df_day['hum'] < 0) | (df_day['hum'] > 1)])"
      ]
    },
    {
      "cell_type": "markdown",
      "metadata": {},
      "source": [
        "**Insight Ketidaktepatan Data (Inaccurate Values) :**\n",
        "1. Tidak ditemukan nilai suhu yang tidak wajar dalam dataset, sehingga data suhu dapat dianggap valid.\n",
        "2. Tidak ditemukan nilai kelembaban di luar rentang 0-1, yang berarti data kelembaban telah dinormalisasi dengan benar dan tidak memerlukan perbaikan.\n",
        "3. Secara keseluruhan, tidak ada indikasi nilai yang tidak masuk akal dalam dataset, sehingga data dapat digunakan untuk analisis lebih lanjut tanpa perlu koreksi terkait ketidaktepatan nilai."
      ]
    },
    {
      "cell_type": "markdown",
      "metadata": {},
      "source": [
        "**5. Pencilan (Outliers)**"
      ]
    },
    {
      "cell_type": "code",
      "execution_count": 206,
      "metadata": {},
      "outputs": [
        {
          "name": "stdout",
          "output_type": "stream",
          "text": [
            "       cnt\n",
            "5536   651\n",
            "10358  644\n",
            "10359  712\n",
            "10382  676\n",
            "10383  734\n",
            "Panjang data outlier:  505\n"
          ]
        }
      ],
      "source": [
        "# Mendeteksi outliers menggunakan metode Interquartile Range (IQR)\n",
        "def detect_outliers_iqr(df, column):\n",
        "\n",
        "    # Hitung kuartil pertama (Q1) dan kuartil ketiga (Q3) dari kolom data\n",
        "    Q1 = df[column].quantile(0.25)\n",
        "    Q3 = df[column].quantile(0.75)\n",
        "    IQR = Q3 - Q1\n",
        "    \n",
        "    # Tentukan batas bawah dan batas atas untuk mendeteksi outlier\n",
        "    lower_bound = Q1 - 1.5 * IQR\n",
        "    upper_bound = Q3 + 1.5 * IQR\n",
        "    \n",
        "    # Ambil data yang berada di luar batas bawah atau atas sebagai outlier\n",
        "    outliers = df[(df[column] < lower_bound) | (df[column] > upper_bound)]\n",
        "    \n",
        "    # Kembalikan data outlier \n",
        "    return outliers\n",
        "\n",
        "# memanggil fungsi untuk mendeteksi outlier pada kolom 'cnt'\n",
        "outliers = detect_outliers_iqr(df_hour, 'cnt')\n",
        "\n",
        "# menampilkan beberapa contoh data outlier yang terdeteksi\n",
        "print(outliers[['cnt']].head())\n",
        "\n",
        "# menampilkan jumlah data outlier yang ditemukan\n",
        "print(\"Panjang data outlier: \", len(outliers))"
      ]
    },
    {
      "cell_type": "markdown",
      "metadata": {},
      "source": [
        "**Insight :** Dari hasil analisis menggunakan metode IQR, ditemukan sebanyak 505 data pencilan pada kolom jumlah peminjaman sepeda per jam (cnt). Outlier ini kemungkinan terjadi karena lonjakan aktivitas pada jam-jam tertentu, seperti jam sibuk atau kondisi khusus lainnya."
      ]
    },
    {
      "cell_type": "code",
      "execution_count": 207,
      "metadata": {},
      "outputs": [],
      "source": [
        "# Mendeteksi outliers pada kolom tertentu di df_hour\n",
        "outliers_temp = detect_outliers_iqr(df_hour, 'temp')\n",
        "outliers_hum = detect_outliers_iqr(df_hour, 'hum')\n",
        "outliers_windspeed = detect_outliers_iqr(df_hour, 'windspeed')"
      ]
    },
    {
      "cell_type": "code",
      "execution_count": 208,
      "metadata": {},
      "outputs": [
        {
          "name": "stdout",
          "output_type": "stream",
          "text": [
            "Outliers pada kolom suhu:\n",
            "Empty DataFrame\n",
            "Columns: [instant, dteday, season, yr, mnth, hr, holiday, weekday, workingday, weathersit, temp, atemp, hum, windspeed, casual, registered, cnt]\n",
            "Index: []\n",
            "\n",
            "Outliers pada kolom kelembaban:\n",
            "      instant      dteday  season  yr  mnth  hr  holiday  weekday  workingday  weathersit  temp   atemp  hum  windspeed  casual  registered  cnt\n",
            "1551     1552  2011-03-10       1   0     3   0        0        4           1           3  0.34  0.3182  0.0     0.2537       3           0    3\n",
            "1552     1553  2011-03-10       1   0     3   1        0        4           1           3  0.34  0.3182  0.0     0.2537       0           2    2\n",
            "1553     1554  2011-03-10       1   0     3   2        0        4           1           3  0.34  0.3182  0.0     0.2537       0           1    1\n",
            "1554     1555  2011-03-10       1   0     3   5        0        4           1           3  0.36  0.3485  0.0     0.1940       1           2    3\n",
            "1555     1556  2011-03-10       1   0     3   6        0        4           1           3  0.36  0.3333  0.0     0.3284       0          12   12\n",
            "1556     1557  2011-03-10       1   0     3   7        0        4           1           3  0.38  0.3939  0.0     0.2239       1          36   37\n",
            "1557     1558  2011-03-10       1   0     3   8        0        4           1           3  0.38  0.3939  0.0     0.2836       1          43   44\n",
            "1558     1559  2011-03-10       1   0     3   9        0        4           1           3  0.40  0.4091  0.0     0.2239       1          23   24\n",
            "1559     1560  2011-03-10       1   0     3  10        0        4           1           3  0.40  0.4091  0.0     0.1642       0          17   17\n",
            "1560     1561  2011-03-10       1   0     3  11        0        4           1           3  0.40  0.4091  0.0     0.2537       6           5   11\n",
            "1561     1562  2011-03-10       1   0     3  12        0        4           1           3  0.42  0.4242  0.0     0.2239       4          30   34\n",
            "1562     1563  2011-03-10       1   0     3  13        0        4           1           3  0.42  0.4242  0.0     0.2239       1          11   12\n",
            "1563     1564  2011-03-10       1   0     3  14        0        4           1           3  0.44  0.4394  0.0     0.2985       0          12   12\n",
            "1564     1565  2011-03-10       1   0     3  15        0        4           1           3  0.44  0.4394  0.0     0.2239       3          11   14\n",
            "1565     1566  2011-03-10       1   0     3  16        0        4           1           3  0.42  0.4242  0.0     0.2537       1          20   21\n",
            "1566     1567  2011-03-10       1   0     3  17        0        4           1           2  0.44  0.4394  0.0     0.3881       2         109  111\n",
            "1567     1568  2011-03-10       1   0     3  18        0        4           1           3  0.44  0.4394  0.0     0.3582       2          80   82\n",
            "1568     1569  2011-03-10       1   0     3  19        0        4           1           3  0.44  0.4394  0.0     0.5821       5          51   56\n",
            "1569     1570  2011-03-10       1   0     3  20        0        4           1           3  0.36  0.3333  0.0     0.3284       9          29   38\n",
            "1570     1571  2011-03-10       1   0     3  21        0        4           1           3  0.36  0.3485  0.0     0.2239       1          27   28\n",
            "1571     1572  2011-03-10       1   0     3  22        0        4           1           2  0.34  0.3333  0.0     0.1343       4          30   34\n",
            "1572     1573  2011-03-10       1   0     3  23        0        4           1           3  0.34  0.3485  0.0     0.0896       1          26   27\n",
            "\n",
            "Outliers pada kolom kecepatan angin:\n",
            "       instant      dteday  season  yr  mnth  hr  holiday  weekday  workingday  weathersit  temp   atemp   hum  windspeed  casual  registered  cnt\n",
            "175        176  2011-01-08       1   0     1  14        0        6           0           1  0.20  0.1667  0.32     0.4925      12          83   95\n",
            "178        179  2011-01-08       1   0     1  17        0        6           0           1  0.16  0.1212  0.37     0.5522       5          64   69\n",
            "194        195  2011-01-09       1   0     1   9        0        0           0           1  0.12  0.0758  0.46     0.5224       0          19   19\n",
            "196        197  2011-01-09       1   0     1  11        0        0           0           1  0.16  0.1212  0.40     0.5224       2          47   49\n",
            "265        266  2011-01-12       1   0     1  12        0        3           1           1  0.20  0.1515  0.47     0.5821       3          52   55\n",
            "...        ...         ...     ...  ..   ...  ..      ...      ...         ...         ...   ...     ...   ...        ...     ...         ...  ...\n",
            "17327    17328  2012-12-29       1   1    12  20        0        6           0           2  0.30  0.2424  0.56     0.5522       2          64   66\n",
            "17328    17329  2012-12-29       1   1    12  21        0        6           0           2  0.28  0.2424  0.56     0.4925       4          56   60\n",
            "17341    17342  2012-12-30       1   1    12  10        0        0           0           1  0.26  0.2121  0.41     0.5821      31          91  122\n",
            "17343    17344  2012-12-30       1   1    12  12        0        0           0           1  0.28  0.2273  0.36     0.5821      47          97  144\n",
            "17344    17345  2012-12-30       1   1    12  13        0        0           0           1  0.30  0.2576  0.36     0.6567      49         120  169\n",
            "\n",
            "[342 rows x 17 columns]\n"
          ]
        }
      ],
      "source": [
        "# Menampilkan hasil\n",
        "print(\"Outliers pada kolom suhu:\")\n",
        "print(outliers_temp)\n",
        "\n",
        "print(\"\\nOutliers pada kolom kelembaban:\")\n",
        "print(outliers_hum)\n",
        "\n",
        "print(\"\\nOutliers pada kolom kecepatan angin:\")\n",
        "print(outliers_windspeed)"
      ]
    },
    {
      "cell_type": "markdown",
      "metadata": {},
      "source": [
        "**Insight :** Berdasarkan analisis dengan metode IQR, tidak ditemukan outlier pada kolom suhu (temp) dan kecepatan angin (windspeed). Sementara itu, terdapat sejumlah outlier pada kolom kelembaban (hum), yang mengindikasikan adanya nilai kelembaban ekstrem pada beberapa waktu tertentu.\n",
        "\n"
      ]
    },
    {
      "cell_type": "code",
      "execution_count": 209,
      "metadata": {},
      "outputs": [
        {
          "data": {
            "image/png": "[encoded data removed]",
            "text/plain": [
              "<Figure size 800x400 with 1 Axes>"
            ]
          },
          "metadata": {},
          "output_type": "display_data"
        },
        {
          "data": {
            "image/png": "[encoded data removed]",
            "text/plain": [
              "<Figure size 800x400 with 1 Axes>"
            ]
          },
          "metadata": {},
          "output_type": "display_data"
        }
      ],
      "source": [
        "# Visualisasi outlier pada jumlah peminjaman sepeda per jam\n",
        "plt.figure(figsize=(8, 4))\n",
        "sns.boxplot(x=df_hour['cnt'])\n",
        "plt.title(\"Jumlah Peminjaman Sepeda Per Jam\")\n",
        "plt.show()\n",
        "\n",
        "# Visualisasi outlier pada jumlah peminjaman sepeda per hari\n",
        "plt.figure(figsize=(8, 4))\n",
        "sns.boxplot(x=df_day['cnt'])\n",
        "plt.title(\"Jumlah Peminjaman Sepeda Per Hari\")\n",
        "plt.show()"
      ]
    },
    {
      "cell_type": "markdown",
      "metadata": {},
      "source": [
        "**Insight Pencilan (Outliers)** : Outlier yang ditemukan pada jumlah peminjaman sepeda terutama pada data per jam tidak dihapus, karena:\n",
        "- Outlier ini mencerminkan kondisi nyata seperti lonjakan penggunaan pada jam sibuk atau hari tertentu.\n",
        "- Menghapus data tersebut justru dapat menghilangkan informasi penting dalam analisis pola penggunaan sepeda.\n",
        "\n",
        "\n"
      ]
    },
    {
      "cell_type": "markdown",
      "metadata": {
        "id": "EhN5R4hr8DC1"
      },
      "source": [
        "### Cleaning Data"
      ]
    },
    {
      "cell_type": "code",
      "execution_count": 211,
      "metadata": {
        "id": "jVnYpprE9Evz"
      },
      "outputs": [
        {
          "name": "stdout",
          "output_type": "stream",
          "text": [
            "Duplicate rows in df_hour: 0\n",
            "Duplicate rows in df_day: 0\n",
            "Missing values in df_hour:\n",
            " instant       0\n",
            "dteday        0\n",
            "season        0\n",
            "yr            0\n",
            "mnth          0\n",
            "hr            0\n",
            "holiday       0\n",
            "weekday       0\n",
            "workingday    0\n",
            "weathersit    0\n",
            "temp          0\n",
            "atemp         0\n",
            "hum           0\n",
            "windspeed     0\n",
            "casual        0\n",
            "registered    0\n",
            "cnt           0\n",
            "dtype: int64\n",
            "Missing values in df_day:\n",
            " instant       0\n",
            "dteday        0\n",
            "season        0\n",
            "yr            0\n",
            "mnth          0\n",
            "holiday       0\n",
            "weekday       0\n",
            "workingday    0\n",
            "weathersit    0\n",
            "temp          0\n",
            "atemp         0\n",
            "hum           0\n",
            "windspeed     0\n",
            "casual        0\n",
            "registered    0\n",
            "cnt           0\n",
            "dtype: int64\n",
            "Jumlah outlier pada df_hour['cnt']: 505\n"
          ]
        }
      ],
      "source": [
        "# Konversi kolom tanggal\n",
        "df_hour[\"dteday\"] = pd.to_datetime(df_hour[\"dteday\"], errors='coerce')\n",
        "df_day[\"dteday\"] = pd.to_datetime(df_day[\"dteday\"], errors='coerce')\n",
        "\n",
        "# Cek duplikasi (tidak ditemukan, hanya dokumentasi)\n",
        "print(\"Duplicate rows in df_hour:\", df_hour.duplicated().sum())\n",
        "print(\"Duplicate rows in df_day:\", df_day.duplicated().sum())\n",
        "\n",
        "# Cek missing values\n",
        "print(\"Missing values in df_hour:\\n\", df_hour.isnull().sum())\n",
        "print(\"Missing values in df_day:\\n\", df_day.isnull().sum())\n",
        "\n",
        "# Deteksi outlier tapi tidak dihapus\n",
        "Q1 = df_hour['cnt'].quantile(0.25)\n",
        "Q3 = df_hour['cnt'].quantile(0.75)\n",
        "IQR = Q3 - Q1\n",
        "outlier_count = ((df_hour['cnt'] < (Q1 - 1.5 * IQR)) | (df_hour['cnt'] > (Q3 + 1.5 * IQR))).sum()\n",
        "print(\"Jumlah outlier pada df_hour['cnt']:\", outlier_count)\n"
      ]
    },
    {
      "cell_type": "markdown",
      "metadata": {},
      "source": [
        "**Insight:**:\n",
        "- Tidak ditemukan missing value maupun data duplikat pada df_hour dan df_day.\n",
        "- Tipe data kolom tanggal (dteday) telah dikonversi ke datetime.\n",
        "- Outlier terdeteksi namun tidak dihapus karena dianggap mencerminkan pola penggunaan yang valid pada kondisi tertentu seperti hari libur atau jam sibuk."
      ]
    },
    {
      "cell_type": "markdown",
      "metadata": {
        "id": "gp-Y6wU38DC1"
      },
      "source": [
        "## Exploratory Data Analysis (EDA)"
      ]
    },
    {
      "cell_type": "markdown",
      "metadata": {
        "id": "MW7WF2kr8DC1"
      },
      "source": [
        "### Explore ..."
      ]
    },
    {
      "cell_type": "markdown",
      "metadata": {},
      "source": [
        "- Untuk memverifikasi apakah kolom weathersit, temp, atemp, hum, windspeed, casual, registered, dan cnt pada df_day merupakan hasil agregasi harian dari df_hour, dilakukan perhitungan agregasi harian pada df_hour yang kemudian dibandingkan dengan data pada df_day."
      ]
    },
    {
      "cell_type": "code",
      "execution_count": 212,
      "metadata": {},
      "outputs": [
        {
          "name": "stdout",
          "output_type": "stream",
          "text": [
            "Ringkasan statistik df_day:\n",
            "          instant               dteday      season          yr        mnth     holiday     weekday  workingday  weathersit        temp       atemp         hum   windspeed       casual   registered          cnt\n",
            "count  731.000000                  731  731.000000  731.000000  731.000000  731.000000  731.000000  731.000000  731.000000  731.000000  731.000000  731.000000  731.000000   731.000000   731.000000   731.000000\n",
            "mean   366.000000  2012-01-01 00:00:00    2.496580    0.500684    6.519836    0.028728    2.997264    0.683995    1.395349    0.495385    0.474354    0.627894    0.190486   848.176471  3656.172367  4504.348837\n",
            "min      1.000000  2011-01-01 00:00:00    1.000000    0.000000    1.000000    0.000000    0.000000    0.000000    1.000000    0.059130    0.079070    0.000000    0.022392     2.000000    20.000000    22.000000\n",
            "25%    183.500000  2011-07-02 12:00:00    2.000000    0.000000    4.000000    0.000000    1.000000    0.000000    1.000000    0.337083    0.337842    0.520000    0.134950   315.500000  2497.000000  3152.000000\n",
            "50%    366.000000  2012-01-01 00:00:00    3.000000    1.000000    7.000000    0.000000    3.000000    1.000000    1.000000    0.498333    0.486733    0.626667    0.180975   713.000000  3662.000000  4548.000000\n",
            "75%    548.500000  2012-07-01 12:00:00    3.000000    1.000000   10.000000    0.000000    5.000000    1.000000    2.000000    0.655417    0.608602    0.730209    0.233214  1096.000000  4776.500000  5956.000000\n",
            "max    731.000000  2012-12-31 00:00:00    4.000000    1.000000   12.000000    1.000000    6.000000    1.000000    3.000000    0.861667    0.840896    0.972500    0.507463  3410.000000  6946.000000  8714.000000\n",
            "std    211.165812                  NaN    1.110807    0.500342    3.451913    0.167155    2.004787    0.465233    0.544894    0.183051    0.162961    0.142429    0.077498   686.622488  1560.256377  1937.211452\n",
            "\n",
            "Ringkasan statistik df_hour_agg:\n",
            "                    dteday  weathersit        temp       atemp         hum   windspeed       casual   registered          cnt\n",
            "count                  731  731.000000  731.000000  731.000000  731.000000  731.000000   731.000000   731.000000   731.000000\n",
            "mean   2012-01-01 00:00:00    1.429347    0.495385    0.474354    0.627894    0.190486   848.176471  3656.172367  4504.348837\n",
            "min    2011-01-01 00:00:00    1.000000    0.059130    0.079070    0.000000    0.022392     2.000000    20.000000    22.000000\n",
            "25%    2011-07-02 12:00:00    1.041667    0.337083    0.337842    0.520000    0.134950   315.500000  2497.000000  3152.000000\n",
            "50%    2012-01-01 00:00:00    1.291667    0.498333    0.486733    0.626667    0.180975   713.000000  3662.000000  4548.000000\n",
            "75%    2012-07-01 12:00:00    1.681159    0.655417    0.608602    0.730208    0.233215  1096.000000  4776.500000  5956.000000\n",
            "max    2012-12-31 00:00:00    3.000000    0.861667    0.840896    0.972500    0.507463  3410.000000  6946.000000  8714.000000\n",
            "std                    NaN    0.435930    0.183051    0.162961    0.142429    0.077498   686.622488  1560.256377  1937.211452\n",
            "\n",
            "Ringkasan statistik selisih nilai antara df_day dan df_hour_agg:\n",
            "       weathersit_diff     temp_diff    atemp_diff      hum_diff  windspeed_diff  casual_diff  registered_diff  cnt_diff\n",
            "count       731.000000  7.310000e+02  7.310000e+02  7.310000e+02    7.310000e+02        731.0            731.0     731.0\n",
            "mean         -0.033998  1.779739e-11  1.000772e-08 -2.622606e-09   -1.443825e-08          0.0              0.0       0.0\n",
            "std           0.246901  2.736837e-07  2.931941e-07  2.751549e-07    2.694124e-07          0.0              0.0       0.0\n",
            "min          -0.458333 -4.782609e-07 -5.000000e-07 -5.217391e-07   -5.000000e-07          0.0              0.0       0.0\n",
            "25%          -0.208333 -3.333333e-07 -1.666667e-07 -3.333333e-07   -1.666667e-07          0.0              0.0       0.0\n",
            "50%          -0.041667  0.000000e+00  0.000000e+00  0.000000e+00    0.000000e+00          0.0              0.0       0.0\n",
            "75%           0.043478  3.333333e-07  2.608696e-07  3.333333e-07    1.666667e-07          0.0              0.0       0.0\n",
            "max           0.500000  4.782609e-07  5.000000e-07  4.782609e-07    5.000000e-07          0.0              0.0       0.0\n",
            "\n",
            "Matriks korelasi antar variabel numerik di df_day:\n",
            "                temp     atemp       hum  windspeed    casual  registered       cnt\n",
            "temp        1.000000  0.991702  0.126963  -0.157944  0.543285    0.540012  0.627494\n",
            "atemp       0.991702  1.000000  0.139988  -0.183643  0.543864    0.544192  0.631066\n",
            "hum         0.126963  0.139988  1.000000  -0.248489 -0.077008   -0.091089 -0.100659\n",
            "windspeed  -0.157944 -0.183643 -0.248489   1.000000 -0.167613   -0.217449 -0.234545\n",
            "casual      0.543285  0.543864 -0.077008  -0.167613  1.000000    0.395282  0.672804\n",
            "registered  0.540012  0.544192 -0.091089  -0.217449  0.395282    1.000000  0.945517\n",
            "cnt         0.627494  0.631066 -0.100659  -0.234545  0.672804    0.945517  1.000000\n",
            "\n",
            "Statistik deskriptif grouped by 'weathersit' di df_day:\n",
            "              cnt                                                                    temp                                                                         hum                                                                      \n",
            "            count         mean          std    min     25%     50%     75%     max  count      mean       std      min       25%       50%       75%       max  count      mean       std       min       25%       50%       75%       max\n",
            "weathersit                                                                                                                                                                                                                                 \n",
            "1           463.0  4876.786177  1879.483989  431.0  3636.5  4844.0  6458.5  8714.0  463.0  0.511541  0.191165  0.05913  0.338750  0.521667  0.692084  0.861667  463.0  0.565594  0.112472  0.187917  0.488959  0.567917  0.645970  0.835833\n",
            "2           247.0  4035.862348  1809.109918  605.0  2674.5  4040.0  5257.5  8362.0  247.0  0.470366  0.167180  0.10750  0.336250  0.458333  0.620834  0.815000  247.0  0.725887  0.109648  0.407083  0.661250  0.734167  0.807916  0.972500\n",
            "3            21.0  1803.285714  1240.284449   22.0   705.0  1817.0  2424.0  4639.0   21.0  0.433440  0.131473  0.21750  0.389091  0.440000  0.541739  0.633913   21.0  0.848872  0.201572  0.000000  0.865417  0.888333  0.918333  0.970417\n",
            "\n",
            "Jumlah missing value tiap kolom di df_day:\n",
            "instant       0\n",
            "dteday        0\n",
            "season        0\n",
            "yr            0\n",
            "mnth          0\n",
            "holiday       0\n",
            "weekday       0\n",
            "workingday    0\n",
            "weathersit    0\n",
            "temp          0\n",
            "atemp         0\n",
            "hum           0\n",
            "windspeed     0\n",
            "casual        0\n",
            "registered    0\n",
            "cnt           0\n",
            "dtype: int64\n",
            "\n",
            "Jumlah data outlier kasar pada kolom 'cnt': 0\n"
          ]
        }
      ],
      "source": [
        "# --- 0. Pastikan kolom tanggal bertipe datetime ---\n",
        "df_day['dteday'] = pd.to_datetime(df_day['dteday'])\n",
        "df_hour['dteday'] = pd.to_datetime(df_hour['dteday'])\n",
        "\n",
        "# --- 1. Hitung agregasi harian dari df_hour ---\n",
        "df_hour_agg = df_hour.groupby(\"dteday\").agg({\n",
        "    \"weathersit\": \"mean\",    # rata-rata karena numerik ordinal\n",
        "    \"temp\": \"mean\",\n",
        "    \"atemp\": \"mean\",\n",
        "    \"hum\": \"mean\",\n",
        "    \"windspeed\": \"mean\",\n",
        "    \"casual\": \"sum\",\n",
        "    \"registered\": \"sum\",\n",
        "    \"cnt\": \"sum\"\n",
        "}).reset_index()\n",
        "\n",
        "# --- 2. Eksplorasi statistik deskriptif awal ---\n",
        "print(\"Ringkasan statistik df_day:\")\n",
        "print(df_day.describe())\n",
        "print(\"\\nRingkasan statistik df_hour_agg:\")\n",
        "print(df_hour_agg.describe())\n",
        "\n",
        "# --- 3. Gabungkan df_day dengan agregasi df_hour ---\n",
        "comparison = df_day.merge(df_hour_agg, on=\"dteday\", suffixes=('_day', '_hour'))\n",
        "\n",
        "# --- 4. Konversi kolom kategori (weathersit) ke numerik jika perlu ---\n",
        "for col in [\"weathersit_day\", \"weathersit_hour\"]:\n",
        "    if comparison[col].dtype.name == \"category\":\n",
        "        comparison[col] = comparison[col].cat.codes\n",
        "\n",
        "# --- 5. Hitung selisih antara df_day dan hasil agregasi df_hour ---\n",
        "for col in [\"weathersit\", \"temp\", \"atemp\", \"hum\", \"windspeed\", \"casual\", \"registered\", \"cnt\"]:\n",
        "    comparison[f\"{col}_diff\"] = comparison[f\"{col}_day\"] - comparison[f\"{col}_hour\"]\n",
        "\n",
        "# --- 6. Tampilkan ringkasan statistik selisih nilai ---\n",
        "print(\"\\nRingkasan statistik selisih nilai antara df_day dan df_hour_agg:\")\n",
        "print(comparison[[f\"{col}_diff\" for col in [\"weathersit\", \"temp\", \"atemp\", \"hum\", \"windspeed\", \"casual\", \"registered\", \"cnt\"]]].describe())\n",
        "\n",
        "# --- 7. Analisis multivariat eksplorasi (EDA murni) ---\n",
        "\n",
        "# Korelasi antar variabel numerik di df_day\n",
        "corr_matrix = df_day[[\"temp\", \"atemp\", \"hum\", \"windspeed\", \"casual\", \"registered\", \"cnt\"]].corr()\n",
        "print(\"\\nMatriks korelasi antar variabel numerik di df_day:\")\n",
        "print(corr_matrix)\n",
        "\n",
        "# Statistik deskriptif grouped by kategori weathersit\n",
        "print(\"\\nStatistik deskriptif grouped by 'weathersit' di df_day:\")\n",
        "print(df_day.groupby('weathersit')[[\"cnt\", \"temp\", \"hum\"]].describe())\n",
        "\n",
        "# Cek missing values di df_day\n",
        "print(\"\\nJumlah missing value tiap kolom di df_day:\")\n",
        "print(df_day.isnull().sum())\n",
        "\n",
        "# Deteksi outlier kasar menggunakan IQR di kolom 'cnt'\n",
        "Q1 = df_day['cnt'].quantile(0.25)\n",
        "Q3 = df_day['cnt'].quantile(0.75)\n",
        "IQR = Q3 - Q1\n",
        "outliers = df_day[(df_day['cnt'] < Q1 - 1.5*IQR) | (df_day['cnt'] > Q3 + 1.5*IQR)]\n",
        "print(f\"\\nJumlah data outlier kasar pada kolom 'cnt': {outliers.shape[0]}\")\n"
      ]
    },
    {
      "cell_type": "markdown",
      "metadata": {
        "id": "th_Lzl2Fkj9O"
      },
      "source": [
        "**Insight:**\n",
        "- Berdasarkan analisis perbedaan antara df_day dan hasil agregasi df_hour, selisih yang dihasilkan sangat kecil atau nol, menunjukkan bahwa df_day memang merupakan agregasi harian dari df_hour. Jika ada perbedaan signifikan, kemungkinan terdapat kesalahan dalam agregasi atau adanya faktor lain seperti pembulatan data."
      ]
    },
    {
      "cell_type": "markdown",
      "metadata": {},
      "source": [
        "## Data Merging & Export ##"
      ]
    },
    {
      "cell_type": "code",
      "execution_count": 234,
      "metadata": {},
      "outputs": [
        {
          "name": "stdout",
          "output_type": "stream",
          "text": [
            "timestamp       0\n",
            "dteday        165\n",
            "season        165\n",
            "yr            165\n",
            "hr            165\n",
            "workingday    165\n",
            "weathersit    165\n",
            "temp          165\n",
            "atemp         165\n",
            "hum           165\n",
            "windspeed     165\n",
            "casual        165\n",
            "registered    165\n",
            "cnt           165\n",
            "dtype: int64\n"
          ]
        },
        {
          "name": "stderr",
          "output_type": "stream",
          "text": [
            "C:\\Users\\ADVAN\\AppData\\Local\\Temp\\ipykernel_9608\\2743825517.py:8: FutureWarning: 'H' is deprecated and will be removed in a future version, please use 'h' instead.\n",
            "  date_range = pd.date_range(start=df_hour['timestamp'].min(), end=df_hour['timestamp'].max(), freq='H')\n"
          ]
        }
      ],
      "source": [
        "# Load data dari hour.csv\n",
        "df_hour = pd.read_csv('data/hour.csv')\n",
        "\n",
        "# Buat kolom timestamp gabungan dari tanggal dan jam\n",
        "df_hour['timestamp'] = pd.to_datetime(df_hour['dteday']) + pd.to_timedelta(df_hour['hr'], unit='h')\n",
        "\n",
        "# Buat rentang waktu lengkap berdasarkan data asli\n",
        "date_range = pd.date_range(start=df_hour['timestamp'].min(), end=df_hour['timestamp'].max(), freq='H')\n",
        "full_df = pd.DataFrame({\"timestamp\": date_range})\n",
        "\n",
        "# Merge full_df dengan df_hour untuk menyisipkan baris yang hilang\n",
        "df_filled = full_df.merge(df_hour, on=\"timestamp\", how=\"left\")\n",
        "\n",
        "# Hapus beberapa kolom yang tidak relevan\n",
        "df_filled.drop(columns=[\"instant\", \"mnth\", \"holiday\", \"weekday\"], inplace=True)\n",
        "\n",
        "# Cek jumlah missing values setelah merge\n",
        "print(df_filled.isnull().sum())\n"
      ]
    },
    {
      "cell_type": "code",
      "execution_count": 237,
      "metadata": {},
      "outputs": [
        {
          "name": "stderr",
          "output_type": "stream",
          "text": [
            "C:\\Users\\ADVAN\\AppData\\Local\\Temp\\ipykernel_9608\\2281589900.py:11: FutureWarning: 'H' is deprecated and will be removed in a future version, please use 'h' instead.\n",
            "  date_range = pd.date_range(start=df_hour[\"timestamp\"].min(), end=df_hour[\"timestamp\"].max(), freq=\"H\")\n"
          ]
        },
        {
          "name": "stdout",
          "output_type": "stream",
          "text": [
            "timestamp     0\n",
            "dteday        0\n",
            "season        0\n",
            "yr            0\n",
            "hr            0\n",
            "workingday    0\n",
            "weathersit    0\n",
            "temp          0\n",
            "atemp         0\n",
            "hum           0\n",
            "windspeed     0\n",
            "casual        0\n",
            "registered    0\n",
            "cnt           0\n",
            "dtype: int64\n",
            "timestamp     datetime64[ns]\n",
            "dteday        datetime64[ns]\n",
            "season                 int32\n",
            "yr                     int32\n",
            "hr                     int32\n",
            "workingday             int32\n",
            "weathersit             int32\n",
            "temp                 float64\n",
            "atemp                float64\n",
            "hum                  float64\n",
            "windspeed            float64\n",
            "casual                 int64\n",
            "registered             int64\n",
            "cnt                    int64\n",
            "dtype: object\n",
            "            timestamp     dteday  season  yr  hr  workingday  weathersit  temp   atemp   hum  windspeed  casual  registered  cnt\n",
            "0 2011-01-01 00:00:00 2011-01-01       1   0   0           0           1  0.24  0.2879  0.81        0.0       3          13   16\n",
            "1 2011-01-01 01:00:00 2011-01-01       1   0   1           0           1  0.22  0.2727  0.80        0.0       8          32   40\n",
            "2 2011-01-01 02:00:00 2011-01-01       1   0   2           0           1  0.22  0.2727  0.80        0.0       5          27   32\n",
            "3 2011-01-01 03:00:00 2011-01-01       1   0   3           0           1  0.24  0.2879  0.75        0.0       3          10   13\n",
            "4 2011-01-01 04:00:00 2011-01-01       1   0   4           0           1  0.24  0.2879  0.75        0.0       0           1    1\n"
          ]
        }
      ],
      "source": [
        "import pandas as pd\n",
        "\n",
        "# Fungsi hitung modus tanpa stats.mode\n",
        "def mode_without_stats(series):\n",
        "    return series.value_counts().idxmax() if not series.isnull().all() else None\n",
        "\n",
        "# Pastikan kolom 'dteday' ada di df_hour (tanggal dari timestamp)\n",
        "df_hour[\"dteday\"] = pd.to_datetime(df_hour[\"timestamp\"].dt.date)\n",
        "\n",
        "# Buat rentang waktu lengkap per jam dari df_hour\n",
        "date_range = pd.date_range(start=df_hour[\"timestamp\"].min(), end=df_hour[\"timestamp\"].max(), freq=\"H\")\n",
        "full_df = pd.DataFrame({\"timestamp\": date_range})\n",
        "\n",
        "# Merge data asli dengan rentang waktu lengkap\n",
        "df_filled = full_df.merge(df_hour, on=\"timestamp\", how=\"left\")\n",
        "\n",
        "# Isi kolom dteday di df_filled\n",
        "df_filled[\"dteday\"] = pd.to_datetime(df_filled[\"timestamp\"].dt.date)\n",
        "\n",
        "# Hitung agregasi harian dari df_hour\n",
        "day_agg = df_hour.groupby(\"dteday\").agg({\n",
        "    \"season\": mode_without_stats,\n",
        "    \"temp\": \"mean\",\n",
        "    \"atemp\": \"mean\",\n",
        "    \"hum\": \"mean\",\n",
        "    \"windspeed\": \"mean\",\n",
        "    \"weathersit\": mode_without_stats,\n",
        "    \"casual\": \"sum\",\n",
        "    \"registered\": \"sum\",\n",
        "    \"cnt\": \"sum\",\n",
        "    \"workingday\": \"mean\",\n",
        "    \"yr\": \"mean\"\n",
        "}).reset_index()\n",
        "\n",
        "# Merge agregasi harian ke df_filled\n",
        "df_filled = df_filled.merge(day_agg, on=\"dteday\", how=\"left\", suffixes=('', '_day'))\n",
        "\n",
        "# Kolom yang akan diisi nilai kosongnya dengan agregasi harian\n",
        "fill_columns = [\"season\", \"temp\", \"atemp\", \"hum\", \"windspeed\", \"weathersit\",\n",
        "                \"casual\", \"registered\", \"cnt\", \"workingday\", \"yr\"]\n",
        "\n",
        "# Isi missing dengan nilai agregasi harian\n",
        "for col in fill_columns:\n",
        "    df_filled[col] = df_filled[col].fillna(df_filled[f\"{col}_day\"])\n",
        "\n",
        "# Hapus kolom tambahan hasil merge agregasi\n",
        "df_filled.drop(columns=[f\"{col}_day\" for col in fill_columns], inplace=True)\n",
        "\n",
        "# Hapus kolom yang tidak relevan jika masih muncul\n",
        "df_filled.drop(columns=[\"instant\", \"mnth\", \"holiday\", \"weekday\"], inplace=True, errors=\"ignore\")\n",
        "\n",
        "# Tambahkan kolom hr\n",
        "df_filled[\"hr\"] = df_filled[\"timestamp\"].dt.hour\n",
        "\n",
        "# Ubah tipe data kolom sesuai kebutuhan\n",
        "df_filled[\"yr\"] = pd.to_numeric(df_filled[\"yr\"], errors=\"coerce\").fillna(0).astype(\"int32\")\n",
        "df_filled[\"season\"] = pd.to_numeric(df_filled[\"season\"], errors=\"coerce\").fillna(0).astype(\"int32\")\n",
        "df_filled[\"workingday\"] = pd.to_numeric(df_filled[\"workingday\"], errors=\"coerce\").fillna(0).astype(\"int32\")\n",
        "df_filled[\"weathersit\"] = pd.to_numeric(df_filled[\"weathersit\"], errors=\"coerce\").fillna(0).astype(\"int32\")\n",
        "df_filled[\"casual\"] = pd.to_numeric(df_filled[\"casual\"], errors=\"coerce\").fillna(0).astype(\"int64\")\n",
        "df_filled[\"registered\"] = pd.to_numeric(df_filled[\"registered\"], errors=\"coerce\").fillna(0).astype(\"int64\")\n",
        "df_filled[\"cnt\"] = pd.to_numeric(df_filled[\"cnt\"], errors=\"coerce\").fillna(0).astype(\"int64\")\n",
        "df_filled[\"temp\"] = pd.to_numeric(df_filled[\"temp\"], errors=\"coerce\").fillna(0).astype(\"float64\")\n",
        "df_filled[\"atemp\"] = pd.to_numeric(df_filled[\"atemp\"], errors=\"coerce\").fillna(0).astype(\"float64\")\n",
        "df_filled[\"hum\"] = pd.to_numeric(df_filled[\"hum\"], errors=\"coerce\").fillna(0).astype(\"float64\")\n",
        "df_filled[\"windspeed\"] = pd.to_numeric(df_filled[\"windspeed\"], errors=\"coerce\").fillna(0).astype(\"float64\")\n",
        "\n",
        "# Cek hasil akhir\n",
        "print(df_filled.isnull().sum())    # Harus 0 semua\n",
        "print(df_filled.dtypes)            # Tipe data akhir\n",
        "print(df_filled.head())            # Sample data\n"
      ]
    },
    {
      "cell_type": "code",
      "execution_count": 239,
      "metadata": {},
      "outputs": [
        {
          "name": "stdout",
          "output_type": "stream",
          "text": [
            "<class 'pandas.core.frame.DataFrame'>\n",
            "RangeIndex: 17544 entries, 0 to 17543\n",
            "Data columns (total 14 columns):\n",
            " #   Column      Non-Null Count  Dtype         \n",
            "---  ------      --------------  -----         \n",
            " 0   timestamp   17544 non-null  datetime64[ns]\n",
            " 1   dteday      17544 non-null  datetime64[ns]\n",
            " 2   season      17544 non-null  int32         \n",
            " 3   yr          17544 non-null  int32         \n",
            " 4   hr          17544 non-null  int32         \n",
            " 5   workingday  17544 non-null  int32         \n",
            " 6   weathersit  17544 non-null  int32         \n",
            " 7   temp        17544 non-null  float64       \n",
            " 8   atemp       17544 non-null  float64       \n",
            " 9   hum         17544 non-null  float64       \n",
            " 10  windspeed   17544 non-null  float64       \n",
            " 11  casual      17544 non-null  int64         \n",
            " 12  registered  17544 non-null  int64         \n",
            " 13  cnt         17544 non-null  int64         \n",
            "dtypes: datetime64[ns](2), float64(4), int32(5), int64(3)\n",
            "memory usage: 1.5 MB\n"
          ]
        }
      ],
      "source": [
        "pd.set_option('display.max_columns', None)\n",
        "df_filled.info()\n"
      ]
    },
    {
      "cell_type": "markdown",
      "metadata": {
        "id": "zsyZjqak8DC2"
      },
      "source": [
        "## Visualization & Explanatory Analysis"
      ]
    },
    {
      "cell_type": "markdown",
      "metadata": {
        "id": "HZxOiQ6n8DC2"
      },
      "source": [
        "### Pertanyaan 1: Bagaimana pola penggunaan sepeda (total, terdaftar, dan kasual) bervariasi berdasarkan musim dan kondisi cuaca sepanjang tahun?"
      ]
    },
    {
      "cell_type": "code",
      "execution_count": 240,
      "metadata": {},
      "outputs": [
        {
          "name": "stdout",
          "output_type": "stream",
          "text": [
            "    year  month year_month     cnt\n",
            "0   2011      1    2011-01   38189\n",
            "1   2011      2    2011-02   48215\n",
            "2   2011      3    2011-03   64045\n",
            "3   2011      4    2011-04   94870\n",
            "4   2011      5    2011-05  135821\n",
            "5   2011      6    2011-06  143512\n",
            "6   2011      7    2011-07  141341\n",
            "7   2011      8    2011-08  136691\n",
            "8   2011      9    2011-09  127418\n",
            "9   2011     10    2011-10  123511\n",
            "10  2011     11    2011-11  102167\n",
            "11  2011     12    2011-12   87323\n"
          ]
        }
      ],
      "source": [
        "import pandas as pd\n",
        "\n",
        "# Salin DataFrame untuk analisis musiman\n",
        "df_seasonal = df_day[['dteday', 'cnt']].copy()\n",
        "\n",
        "# Konversi kolom tanggal ke datetime\n",
        "df_seasonal['dteday'] = pd.to_datetime(df_seasonal['dteday'])\n",
        "\n",
        "# Ekstrak tahun dan bulan dengan .copy() untuk keamanan\n",
        "df_seasonal['year'] = df_seasonal['dteday'].dt.year.copy()\n",
        "df_seasonal['month'] = df_seasonal['dteday'].dt.month.copy()\n",
        "\n",
        "# Buat kolom 'year_month' untuk kemudahan visualisasi\n",
        "df_seasonal['year_month'] = df_seasonal['dteday'].dt.to_period('M').astype(str)\n",
        "\n",
        "# Agregasi total penyewaan berdasarkan tahun dan bulan\n",
        "df_seasonal_agg = df_seasonal.groupby(['year', 'month', 'year_month'])['cnt'].sum().reset_index()\n",
        "\n",
        "# Tampilkan 12 data teratas (1 tahun)\n",
        "print(df_seasonal_agg.head(12))\n"
      ]
    },
    {
      "cell_type": "code",
      "execution_count": 244,
      "metadata": {
        "id": "1swJUdAD8DC2"
      },
      "outputs": [
        {
          "data": {
            "image/png": "[encoded data removed]",
            "text/plain": [
              "<Figure size 1400x600 with 1 Axes>"
            ]
          },
          "metadata": {},
          "output_type": "display_data"
        },
        {
          "data": {
            "image/png": "[encoded data removed]",
            "text/plain": [
              "<Figure size 1000x600 with 1 Axes>"
            ]
          },
          "metadata": {},
          "output_type": "display_data"
        }
      ],
      "source": [
        "import pandas as pd\n",
        "import matplotlib.pyplot as plt\n",
        "import seaborn as sns\n",
        "\n",
        "# Siapkan data dengan kolom yang diperlukan\n",
        "df_seasonal = df_day[['dteday', 'cnt', 'registered', 'casual', 'season', 'weathersit']].copy()\n",
        "df_seasonal['dteday'] = pd.to_datetime(df_seasonal['dteday'])\n",
        "df_seasonal['year_month'] = df_seasonal['dteday'].dt.to_period('M').astype(str)\n",
        "\n",
        "# Agregasi bulanan untuk total, registered, casual\n",
        "df_agg = df_seasonal.groupby(['year_month', 'season', 'weathersit'])[['cnt', 'registered', 'casual']].sum().reset_index()\n",
        "\n",
        "# Visualisasi total, registered, casual per musim\n",
        "plt.figure(figsize=(14,6))\n",
        "sns.lineplot(data=df_agg, x='year_month', y='cnt', hue='season', marker='o')\n",
        "plt.title(\"Tren Penyewaan Sepeda Bulanan Total berdasarkan Musim\")\n",
        "plt.xticks(rotation=45)\n",
        "plt.ylabel(\"Jumlah Penyewaan Sepeda\")\n",
        "plt.tight_layout()\n",
        "plt.show()\n",
        "\n",
        "# Visualisasi per kondisi cuaca \n",
        "plt.figure(figsize=(10,6))\n",
        "sns.boxplot(data=df_seasonal, x='weathersit', y='cnt')\n",
        "plt.title(\"Distribusi Penyewaan Sepeda Berdasarkan Kondisi Cuaca\")\n",
        "plt.xlabel(\"Kondisi Cuaca (Weathersit)\")\n",
        "plt.ylabel(\"Jumlah Penyewaan Sepeda Harian\")\n",
        "plt.tight_layout()\n",
        "plt.show()\n"
      ]
    },
    {
      "cell_type": "markdown",
      "metadata": {
        "id": "DgHI7CiU8DC2"
      },
      "source": [
        "### Pertanyaan 2: Bagaimana proporsi penyewaan sepeda oleh pengguna terdaftar dan kasual bervariasi antara hari kerja/akhir pekan dan kondisi cuaca, serta rekomendasi strategis apa yang dapat diberikan?"
      ]
    },
    {
      "cell_type": "code",
      "execution_count": 242,
      "metadata": {
        "id": "Go0lCsvO8DC2"
      },
      "outputs": [
        {
          "name": "stdout",
          "output_type": "stream",
          "text": [
            "      day_type  weathersit  casual_pct  registered_pct\n",
            "0  Akhir Pekan           1   24.137188       75.862812\n",
            "1  Akhir Pekan           2   18.942755       81.057245\n",
            "2  Akhir Pekan           3   15.377551       84.622449\n",
            "3   Hari Kerja           1   16.910201       83.089799\n",
            "4   Hari Kerja           2   14.286731       85.713269\n",
            "5   Hari Kerja           3    7.512866       92.487134\n"
          ]
        }
      ],
      "source": [
        "# Salin DataFrame dan kolom yang dibutuhkan termasuk weekday dan weathersit\n",
        "df_user = df_day[['dteday', 'casual', 'registered', 'cnt', 'weekday', 'weathersit']].copy()\n",
        "\n",
        "# Konversi kolom tanggal ke datetime\n",
        "df_user['dteday'] = pd.to_datetime(df_user['dteday'])\n",
        "\n",
        "# Tentukan tipe hari\n",
        "df_user['day_type'] = df_user['weekday'].apply(lambda x: 'Hari Kerja' if x < 5 else 'Akhir Pekan')\n",
        "\n",
        "# Hitung persentase kontribusi masing-masing pengguna per baris\n",
        "df_user['casual_pct'] = (df_user['casual'] / df_user['cnt']) * 100\n",
        "df_user['registered_pct'] = (df_user['registered'] / df_user['cnt']) * 100\n",
        "\n",
        "# Agregasi rata-rata persentase kontribusi berdasarkan hari dan kondisi cuaca\n",
        "df_agg_pct = df_user.groupby(['day_type', 'weathersit'])[['casual_pct', 'registered_pct']].mean().reset_index()\n",
        "\n",
        "# Tampilkan hasil\n",
        "print(df_agg_pct)\n"
      ]
    },
    {
      "cell_type": "code",
      "execution_count": 243,
      "metadata": {},
      "outputs": [
        {
          "data": {
            "image/png": "[encoded data removed]",
            "text/plain": [
              "<Figure size 1200x600 with 1 Axes>"
            ]
          },
          "metadata": {},
          "output_type": "display_data"
        },
        {
          "data": {
            "image/png": "[encoded data removed]",
            "text/plain": [
              "<Figure size 1200x600 with 1 Axes>"
            ]
          },
          "metadata": {},
          "output_type": "display_data"
        }
      ],
      "source": [
        "# Plot proporsi pengguna kasual berdasarkan day_type dan weathersit\n",
        "plt.figure(figsize=(12,6))\n",
        "sns.barplot(data=df_agg_pct, x='weathersit', y='casual_pct', hue='day_type')\n",
        "plt.title('Rata-rata Proporsi Penyewaan Kasual per Kondisi Cuaca dan Jenis Hari')\n",
        "plt.xlabel('Kondisi Cuaca (weathersit)')\n",
        "plt.ylabel('Proporsi Penyewaan Kasual (%)')\n",
        "plt.legend(title='Jenis Hari')\n",
        "plt.show()\n",
        "\n",
        "# Plot proporsi pengguna terdaftar dengan cara yang sama\n",
        "plt.figure(figsize=(12,6))\n",
        "sns.barplot(data=df_agg_pct, x='weathersit', y='registered_pct', hue='day_type')\n",
        "plt.title('Rata-rata Proporsi Penyewaan Terdaftar per Kondisi Cuaca dan Jenis Hari')\n",
        "plt.xlabel('Kondisi Cuaca (weathersit)')\n",
        "plt.ylabel('Proporsi Penyewaan Terdaftar (%)')\n",
        "plt.legend(title='Jenis Hari')\n",
        "plt.show()"
      ]
    },
    {
      "cell_type": "markdown",
      "metadata": {
        "id": "_WeHlCeX8DC2"
      },
      "source": [
        "## Conclusion"
      ]
    },
    {
      "cell_type": "markdown",
      "metadata": {
        "id": "ZTcyR48Y8DC2"
      },
      "source": [
        "- Conclution pertanyaan 1 :\n",
        "    - Dari analisis tren penyewaan sepeda bulanan berdasarkan tahun dan musim, terlihat adanya pola musiman yang jelas. Penyewaan sepeda meningkat signifikan pada musim semi dan musim panas, sedangkan menurun pada musim gugur dan musim dingin, mengindikasikan pengaruh cuaca dan musim terhadap perilaku pengguna. Selain itu, tren jangka panjang menunjukkan peningkatan total penyewaan dari tahun ke tahun, yang dapat mencerminkan pertumbuhan minat terhadap penyewaan sepeda serta kemungkinan pengaruh kebijakan atau infrastruktur kota yang semakin mendukung mobilitas ramah lingkungan.\n",
        "    - Visualisasi berdasarkan kondisi cuaca juga memperlihatkan bahwa penyewaan sepeda lebih tinggi pada kondisi cuaca yang baik (cerah atau berawan ringan), dan menurun saat cuaca buruk, memperkuat peran faktor cuaca dalam menentukan pola penggunaan.\n",
        "\n",
        "- Conclution pertanyaan 2 :\n",
        "    - Analisis proporsi penyewaan sepeda oleh pengguna terdaftar (registered) dan kasual (casual) menunjukkan bahwa pengguna terdaftar memberikan kontribusi mayoritas pada total penyewaan, dengan persentase yang lebih tinggi pada hari kerja. Hal ini mengindikasikan bahwa pengguna terdaftar menggunakan sepeda secara rutin untuk aktivitas sehari-hari seperti perjalanan kerja atau sekolah.\n",
        "    - Sebaliknya, pengguna kasual lebih dominan pada akhir pekan dan hari libur, kemungkinan besar untuk tujuan rekreasi atau kegiatan santai. Proporsi kontribusi ini juga dipengaruhi oleh kondisi cuaca, di mana hari dengan cuaca baik cenderung meningkatkan aktivitas penyewaan, khususnya oleh pengguna kasual.\n"
      ]
    }
  ],
  "metadata": {
    "colab": {
      "provenance": [],
      "toc_visible": true
    },
    "kernelspec": {
      "display_name": "Python 3",
      "language": "python",
      "name": "python3"
    },
    "language_info": {
      "codemirror_mode": {
        "name": "ipython",
        "version": 3
      },
      "file_extension": ".py",
      "mimetype": "text/x-python",
      "name": "python",
      "nbconvert_exporter": "python",
      "pygments_lexer": "ipython3",
      "version": "3.13.2"
    },
    "orig_nbformat": 4,
    "vscode": {
      "interpreter": {
        "hash": "972b3bf27e332e87b5379f2791f6ef9dfc79c71018c370b0d7423235e20fe4d7"
      }
    }
  },
  "nbformat": 4,
  "nbformat_minor": 0
}
